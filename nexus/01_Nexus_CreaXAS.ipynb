{
 "cells": [
  {
   "cell_type": "markdown",
   "id": "04085597-a3ab-4ebb-81e4-494a6bb4335c",
   "metadata": {},
   "source": [
    "# NXxas\n",
    "\n",
    "This notebook shows how to define the NeXus file for a XAS experiment.\n",
    "Notice that in the example the metadata mapping is done by hand, but al the data are extracted by the metadata file '2024_03_06_0005_META.txt'"
   ]
  },
  {
   "cell_type": "code",
   "execution_count": 7,
   "id": "0e69aadb-7e73-487c-bc49-d1c0d9179c4c",
   "metadata": {
    "id": "0e69aadb-7e73-487c-bc49-d1c0d9179c4c"
   },
   "outputs": [],
   "source": [
    "from pathlib import Path\n",
    "from datetime import datetime\n",
    "import h5py\n",
    "import numpy as np\n",
    "import os\n",
    "path_file='' #insert your path"
   ]
  },
  {
   "cell_type": "code",
   "execution_count": 2,
   "id": "9dzxjzMBrC65",
   "metadata": {
    "colab": {
     "base_uri": "https://localhost:8080/"
    },
    "executionInfo": {
     "elapsed": 8996,
     "status": "ok",
     "timestamp": 1718031493356,
     "user": {
      "displayName": "Cecilia Zagni",
      "userId": "14978044854869489491"
     },
     "user_tz": -120
    },
    "id": "9dzxjzMBrC65",
    "outputId": "8e1b070e-0ee2-4697-c3c1-c54a31087453"
   },
   "outputs": [
    {
     "name": "stdout",
     "output_type": "stream",
     "text": [
      "Requirement already satisfied: nexusformat in /Library/Frameworks/Python.framework/Versions/3.12/lib/python3.12/site-packages (1.0.6)\n",
      "Requirement already satisfied: numpy in /Library/Frameworks/Python.framework/Versions/3.12/lib/python3.12/site-packages (from nexusformat) (1.26.4)\n",
      "Requirement already satisfied: scipy in /Library/Frameworks/Python.framework/Versions/3.12/lib/python3.12/site-packages (from nexusformat) (1.14.1)\n",
      "Requirement already satisfied: h5py>=2.9 in /Library/Frameworks/Python.framework/Versions/3.12/lib/python3.12/site-packages (from nexusformat) (3.12.1)\n",
      "Requirement already satisfied: hdf5plugin in /Library/Frameworks/Python.framework/Versions/3.12/lib/python3.12/site-packages (from nexusformat) (5.0.0)\n",
      "\n",
      "\u001b[1m[\u001b[0m\u001b[34;49mnotice\u001b[0m\u001b[1;39;49m]\u001b[0m\u001b[39;49m A new release of pip is available: \u001b[0m\u001b[31;49m24.1.2\u001b[0m\u001b[39;49m -> \u001b[0m\u001b[32;49m24.2\u001b[0m\n",
      "\u001b[1m[\u001b[0m\u001b[34;49mnotice\u001b[0m\u001b[1;39;49m]\u001b[0m\u001b[39;49m To update, run: \u001b[0m\u001b[32;49mpip install --upgrade pip\u001b[0m\n",
      "Note: you may need to restart the kernel to use updated packages.\n"
     ]
    }
   ],
   "source": [
    "pip install nexusformat\n"
   ]
  },
  {
   "cell_type": "code",
   "execution_count": 3,
   "id": "D91CGq0Eq2dU",
   "metadata": {
    "id": "D91CGq0Eq2dU"
   },
   "outputs": [],
   "source": [
    "from nexusformat.nexus import *\n"
   ]
  },
  {
   "cell_type": "code",
   "execution_count": 8,
   "id": "PwoITIIOa-h9",
   "metadata": {
    "id": "PwoITIIOa-h9"
   },
   "outputs": [],
   "source": [
    "#data = np.genfromtxt('2024_05_25_0006.txt', delimiter='\\t', skip_header=1)\n",
    "\n",
    "data = np.loadtxt(path_file+'2024_03_06_0005.txt',skiprows=1)\n",
    "\n",
    "# Extract columns into separate arrays\n",
    "photon_energy = data[:, 0]\n",
    "sample_current = data[:, 1]\n",
    "mesh_current = data[:, 2]\n",
    "sample_mesh = data[:, 3]\n",
    "reference_current = data[:, 4]"
   ]
  },
  {
   "cell_type": "code",
   "execution_count": 10,
   "id": "yV_ULJxK098y",
   "metadata": {
    "colab": {
     "base_uri": "https://localhost:8080/"
    },
    "executionInfo": {
     "elapsed": 15,
     "status": "ok",
     "timestamp": 1718031495521,
     "user": {
      "displayName": "Cecilia Zagni",
      "userId": "14978044854869489491"
     },
     "user_tz": -120
    },
    "id": "yV_ULJxK098y",
    "outputId": "0ef280bd-f2dc-4c04-d407-49857f6e197a"
   },
   "outputs": [
    {
     "data": {
      "text/plain": [
       "numpy.ndarray"
      ]
     },
     "execution_count": 10,
     "metadata": {},
     "output_type": "execute_result"
    }
   ],
   "source": [
    "type(photon_energy)"
   ]
  },
  {
   "cell_type": "code",
   "execution_count": 11,
   "id": "tjHEgWWy1AXW",
   "metadata": {
    "colab": {
     "base_uri": "https://localhost:8080/"
    },
    "executionInfo": {
     "elapsed": 13,
     "status": "ok",
     "timestamp": 1718031495521,
     "user": {
      "displayName": "Cecilia Zagni",
      "userId": "14978044854869489491"
     },
     "user_tz": -120
    },
    "id": "tjHEgWWy1AXW",
    "outputId": "65107e1f-2d51-4eee-f006-41a69fdb1dfc"
   },
   "outputs": [
    {
     "name": "stdout",
     "output_type": "stream",
     "text": [
      "[-4.752124 -4.489697 -3.697526 ... -6.141101 -7.058312 -1.137177]\n"
     ]
    }
   ],
   "source": [
    "print(sample_mesh)"
   ]
  },
  {
   "cell_type": "code",
   "execution_count": 12,
   "id": "lPCq29adktIb",
   "metadata": {
    "id": "lPCq29adktIb"
   },
   "outputs": [],
   "source": [
    "# creo il file\n",
    "now_datetime = datetime.now().strftime(\"%Y%m%d_%H%M%S\")\n",
    "filename = f\"myXAS_{now_datetime}.nxs\"\n",
    "f = h5py.File(filename, \"w\")\n",
    "f.attrs['default'] = 'entry'"
   ]
  },
  {
   "cell_type": "code",
   "execution_count": 13,
   "id": "yPHYj5it9N-J",
   "metadata": {
    "id": "yPHYj5it9N-J"
   },
   "outputs": [],
   "source": [
    "# Close the file\n",
    "f.close()"
   ]
  },
  {
   "cell_type": "code",
   "execution_count": 14,
   "id": "JixBtlwz9nhP",
   "metadata": {
    "colab": {
     "base_uri": "https://localhost:8080/"
    },
    "executionInfo": {
     "elapsed": 10,
     "status": "ok",
     "timestamp": 1718031495521,
     "user": {
      "displayName": "Cecilia Zagni",
      "userId": "14978044854869489491"
     },
     "user_tz": -120
    },
    "id": "JixBtlwz9nhP",
    "outputId": "4ceb0e6a-6261-41d9-e2ec-e7947f5342bb"
   },
   "outputs": [
    {
     "name": "stdout",
     "output_type": "stream",
     "text": [
      "root:NXroot\n",
      "  @default = 'entry'\n"
     ]
    }
   ],
   "source": [
    "# vedi\n",
    "test=nxload(filename)\n",
    "print(test.tree)"
   ]
  },
  {
   "cell_type": "code",
   "execution_count": 15,
   "id": "KoBBHZTZ9PfC",
   "metadata": {
    "id": "KoBBHZTZ9PfC"
   },
   "outputs": [],
   "source": [
    "# riapro il file in rw\n",
    "f = h5py.File(filename, \"r+\")"
   ]
  },
  {
   "cell_type": "code",
   "execution_count": 16,
   "id": "kyOTzzV2n7ps",
   "metadata": {
    "id": "kyOTzzV2n7ps"
   },
   "outputs": [],
   "source": [
    "# /entry\n",
    "f.create_group(\"entry\")\n",
    "f['/entry'].attrs[\"NX_class\"] = \"NXentry\"\n",
    "f['/entry'].attrs[\"default\"] = \"data\""
   ]
  },
  {
   "cell_type": "code",
   "execution_count": 17,
   "id": "AKhG5PDWpvdv",
   "metadata": {
    "colab": {
     "base_uri": "https://localhost:8080/"
    },
    "executionInfo": {
     "elapsed": 8,
     "status": "ok",
     "timestamp": 1718031495522,
     "user": {
      "displayName": "Cecilia Zagni",
      "userId": "14978044854869489491"
     },
     "user_tz": -120
    },
    "id": "AKhG5PDWpvdv",
    "outputId": "bab81467-cd86-40b5-94dc-9863d2227166"
   },
   "outputs": [
    {
     "data": {
      "text/plain": [
       "<HDF5 dataset \"title\": shape (), type \"|O\">"
      ]
     },
     "execution_count": 17,
     "metadata": {},
     "output_type": "execute_result"
    }
   ],
   "source": [
    "# /entry/definition\n",
    "f['/entry'].create_dataset('definition',data='NXxas')\n",
    "\n",
    "# /entry/duration\n",
    "f['/entry'].create_dataset('experiment_description',data='FAST-SCAN XAS (X-RAY ABSORPTION SPECTROSCOPY)')\n",
    "f['/entry/experiment_description'].attrs[\"description\"] = 'Technique'\n",
    "\n",
    "# /entry/duration\n",
    "f['/entry'].create_dataset('duration',data=82)\n",
    "f['/entry/duration'].attrs[\"description\"] = 'Duration of single scan'\n",
    "f['/entry/duration'].attrs[\"units\"] = 's'\n",
    "\n",
    "# /entry/end_time\n",
    "f['/entry'].create_dataset('start_time',data='2024-05-25T17:14:35+01:00')\n",
    "\n",
    "# /entry/entry_identifier\n",
    "f['/entry'].create_dataset('entry_identifier',data='0005')\n",
    "\n",
    "# /entry/title\n",
    "f['/entry'].create_dataset('title',data='2024_03_06_0005')"
   ]
  },
  {
   "cell_type": "code",
   "execution_count": 18,
   "id": "b1IePV37kRn8",
   "metadata": {
    "colab": {
     "base_uri": "https://localhost:8080/"
    },
    "executionInfo": {
     "elapsed": 6,
     "status": "ok",
     "timestamp": 1718031495522,
     "user": {
      "displayName": "Cecilia Zagni",
      "userId": "14978044854869489491"
     },
     "user_tz": -120
    },
    "id": "b1IePV37kRn8",
    "outputId": "4811481e-84db-43e4-8a33-95ff3e6b5914"
   },
   "outputs": [
    {
     "data": {
      "text/plain": [
       "<HDF5 dataset \"term\": shape (), type \"<i8\">"
      ]
     },
     "execution_count": 18,
     "metadata": {},
     "output_type": "execute_result"
    }
   ],
   "source": [
    "# /entry/number_of_scans\n",
    "f['/entry'].create_group(\"number_of_scans\")\n",
    "f['/entry/number_of_scans'].attrs[\"NX_class\"] = \"NXparameters\"\n",
    "\n",
    "# /entry/title\n",
    "f['/entry/number_of_scans'].create_dataset('term',data=1)"
   ]
  },
  {
   "cell_type": "code",
   "execution_count": 19,
   "id": "bziMgpdkvZ7Q",
   "metadata": {
    "id": "bziMgpdkvZ7Q"
   },
   "outputs": [],
   "source": [
    "# /entry/instrument\n",
    "f['/entry'].create_group(\"instrument\")\n",
    "f['/entry/instrument'].attrs[\"NX_class\"] = \"NXinstrument\""
   ]
  },
  {
   "cell_type": "code",
   "execution_count": 20,
   "id": "7gZKvUCgv-pQ",
   "metadata": {
    "colab": {
     "base_uri": "https://localhost:8080/"
    },
    "executionInfo": {
     "elapsed": 31,
     "status": "ok",
     "timestamp": 1718031496083,
     "user": {
      "displayName": "Cecilia Zagni",
      "userId": "14978044854869489491"
     },
     "user_tz": -120
    },
    "id": "7gZKvUCgv-pQ",
    "outputId": "bdcd848f-ba95-4a86-ad26-6eb395983013"
   },
   "outputs": [
    {
     "data": {
      "text/plain": [
       "<HDF5 dataset \"type\": shape (), type \"|O\">"
      ]
     },
     "execution_count": 20,
     "metadata": {},
     "output_type": "execute_result"
    }
   ],
   "source": [
    "# /entry/instrument/source\n",
    "f['/entry/instrument'].create_group(\"source\")\n",
    "f['/entry/instrument/source'].attrs[\"NX_class\"] = \"NXsource\"\n",
    "\n",
    "# /entry/instrument/source/current\n",
    "f['/entry/instrument/source'].create_dataset('current',data='307.880')\n",
    "f['/entry/instrument/source/current'].attrs['description'] = 'Ring current'\n",
    "f['/entry/instrument/source/current'].attrs['units'] = 'mA'\n",
    "\n",
    "# /entry/instrument/source/energy\n",
    "f['/entry/instrument/source'].create_dataset('energy',data='2.000')\n",
    "f['/entry/instrument/source/energy'].attrs['description'] = 'Beam energy'\n",
    "f['/entry/instrument/source/energy'].attrs['units'] = 'GeV'\n",
    "\n",
    "# /entry/instrument/source/name\n",
    "f['/entry/instrument/source'].create_dataset('name',data='Elettra-Sincrotrone Trieste')\n",
    "\n",
    "# /entry/instrument/source/probe\n",
    "f['/entry/instrument/source'].create_dataset('probe',data='X-ray')\n",
    "\n",
    "# /entry/instrument/source/type\n",
    "f['/entry/instrument/source'].create_dataset('type',data='Synchrotron X-ray source')"
   ]
  },
  {
   "cell_type": "code",
   "execution_count": 21,
   "id": "B-5eJI7tx7MC",
   "metadata": {
    "id": "B-5eJI7tx7MC"
   },
   "outputs": [],
   "source": [
    "# /entry/instrument/monochromator\n",
    "f['/entry/instrument'].create_group(\"monochromator\")\n",
    "f['/entry/instrument/monochromator'].attrs[\"NX_class\"] = \"NXmonochromator\"\n",
    "\n",
    "# /entry/instrument/monochromator/energy\n",
    "f['/entry/instrument/monochromator'].create_dataset('energy',data=photon_energy)\n",
    "f['/entry/instrument/monochromator/energy'].attrs['description'] = 'Photon energy selected'\n",
    "f['/entry/instrument/monochromator/energy'].attrs['units'] = 'eV'"
   ]
  },
  {
   "cell_type": "code",
   "execution_count": 22,
   "id": "NWiSNLQ2fL5X",
   "metadata": {
    "id": "NWiSNLQ2fL5X"
   },
   "outputs": [],
   "source": [
    "# /entry/instrument/monochromator/exit_slit\n",
    "f['/entry/instrument/monochromator'].create_group(\"exit_slit\")\n",
    "f['/entry/instrument/monochromator/exit_slit'].attrs[\"NX_class\"] = \"NXslit\"\n",
    "\n",
    "# /entry/instrument/monochromator/exit_slit/x_gap\n",
    "f['/entry/instrument/monochromator/exit_slit'].create_dataset('x_gap',data=31)\n",
    "f['/entry/instrument/monochromator/exit_slit/x_gap'].attrs[\"units\"] = \"mm\""
   ]
  },
  {
   "cell_type": "code",
   "execution_count": 23,
   "id": "lZ4ybjZVwf6y",
   "metadata": {
    "id": "lZ4ybjZVwf6y"
   },
   "outputs": [],
   "source": [
    "# /entry/instrument/monochromator/grating\n",
    "f['/entry/instrument/monochromator'].create_group(\"grating\")\n",
    "f['/entry/instrument/monochromator/grating'].attrs[\"NX_class\"] = \"NXgrating\"\n",
    "\n",
    "# /entry/instrument/monochromator/grating/period\n",
    "# per il momento lo metto qui, ma questo non è un periodo, è una densità\n",
    "f['/entry/instrument/monochromator/grating'].create_dataset('period',data=900)\n",
    "f['/entry/instrument/monochromator/grating/period'].attrs['description'] = 'number of lines per mm'\n",
    "\n",
    "# /entry/instrument/monochromator/grating/depth\n",
    "f['/entry/instrument/monochromator/grating'].create_dataset('depth',data=110)\n",
    "f['/entry/instrument/monochromator/grating/depth'].attrs['units'] = 'Å'\n",
    "\n",
    "# /entry/instrument/monochromator/grating/deflection_angle\n",
    "f['/entry/instrument/monochromator/grating'].create_dataset('deflection_angle',data=170)\n",
    "f['/entry/instrument/monochromator/grating/deflection_angle'].attrs['description'] = 'Deviation angle'\n",
    "f['/entry/instrument/monochromator/grating/deflection_angle'].attrs['units'] = '°'\n",
    "\n",
    "# dimensioni fisiche del reticolo (mm²): 190 mm x 10 mm"
   ]
  },
  {
   "cell_type": "code",
   "execution_count": 24,
   "id": "iJpDaTBBskBt",
   "metadata": {
    "id": "iJpDaTBBskBt"
   },
   "outputs": [],
   "source": [
    "# /entry/instrument/monochromator/mirror\n",
    "f['/entry/instrument/monochromator'].create_group(\"mirror\")\n",
    "f['/entry/instrument/monochromator/mirror'].attrs[\"NX_class\"] = \"NXmirror\"\n",
    "\n",
    "# /entry/instrument/monochromator/mirror/description\n",
    "f['/entry/instrument/monochromator/mirror'].create_dataset('description',data='Hm2b monochromator mirror')\n",
    "\n",
    "# /entry/instrument/monochromator/mirror/external_material\n",
    "f['/entry/instrument/monochromator/mirror'].create_dataset('external_material',data='Si')\n",
    "\n",
    "# /entry/instrument/monochromator/mirror/shape\n",
    "f['/entry/instrument/monochromator/mirror'].create_dataset('shape',data='nxsphere')\n",
    "\n",
    "# /entry/instrument/monochromator/mirror/incident_angle\n",
    "f['/entry/instrument/monochromator/mirror'].create_dataset('incident_angle',data=2.5)\n",
    "f['/entry/instrument/monochromator/mirror/incident_angle'].attrs['units'] = '°'\n",
    "\n",
    "# R: Il raggio di curvatura dello specchio sferico, che è 105.16 metri (con una specifica nominale di 104.6 metri).\n",
    "# dimensioni dell'area utile dello specchio, in millimetri quadrati: 180 mm x 20 mm.\n",
    "# errori di pendenza misurati dello specchio (indicano le deviazioni dall'inclinazione ideale della superficie dello specchio): 0.74 micro-radianti (μrad).\n",
    "\n",
    "# /entry/instrument/monochromator/mirror/coating_roughness\n",
    "f['/entry/instrument/monochromator/mirror'].create_dataset('coating_roughness',data=0.19)\n",
    "f['/entry/instrument/monochromator/mirror/coating_roughness'].attrs['units'] = 'nm'\n"
   ]
  },
  {
   "cell_type": "code",
   "execution_count": 25,
   "id": "-Xue-SDA44cB",
   "metadata": {
    "colab": {
     "base_uri": "https://localhost:8080/"
    },
    "executionInfo": {
     "elapsed": 25,
     "status": "ok",
     "timestamp": 1718031496083,
     "user": {
      "displayName": "Cecilia Zagni",
      "userId": "14978044854869489491"
     },
     "user_tz": -120
    },
    "id": "-Xue-SDA44cB",
    "outputId": "c5223f38-adc6-4d66-82c8-ce1297c334e6"
   },
   "outputs": [
    {
     "data": {
      "text/plain": [
       "<HDF5 dataset \"description\": shape (), type \"|O\">"
      ]
     },
     "execution_count": 25,
     "metadata": {},
     "output_type": "execute_result"
    }
   ],
   "source": [
    "# /entry/instrument/incoming_beam\n",
    "f['/entry/instrument'].create_group(\"incoming_beam\")\n",
    "f['/entry/instrument/incoming_beam'].attrs[\"NX_class\"] = \"NXdetector\"\n",
    "\n",
    "# /entry/instrument/incoming_beam/data\n",
    "f['/entry/instrument/incoming_beam'].create_dataset('data',data=mesh_current)\n",
    "f['/entry/instrument/incoming_beam/data'].attrs['description'] = 'Current at the entry of the endstation, measured from a tantalum (Ta) mesh covered with 200 nm of gold (Au), after the interaction with the X-ray beam'\n",
    "f['/entry/instrument/incoming_beam/data'].attrs['units'] = 'A'\n",
    "\n",
    "# /entry/instrument/incoming_beam/description\n",
    "f['/entry/instrument/incoming_beam'].create_dataset('description',data='AH501B PICOAMMETER')"
   ]
  },
  {
   "cell_type": "code",
   "execution_count": 26,
   "id": "BCnaCX1t9wrv",
   "metadata": {
    "id": "BCnaCX1t9wrv"
   },
   "outputs": [],
   "source": [
    "# /entry/instrument/prefocusing_mirror\n",
    "f['/entry/instrument'].create_group(\"prefocusing_mirror\")\n",
    "f['/entry/instrument/prefocusing_mirror'].attrs[\"NX_class\"] = \"NXmirror\"\n",
    "\n",
    "# /entry/instrument/prefocusing_mirror/description\n",
    "f['/entry/instrument/prefocusing_mirror'].create_dataset('description',data='First mirror of the beamline. Spherical shape, radius 302.1 m. Encoder positions of motors 3 and 4 are related to translation and pitch of the mirror')\n",
    "\n",
    "# /entry/instrument/prefocusing_mirror/incident_angle\n",
    "f['/entry/instrument/prefocusing_mirror'].create_dataset('incident_angle',data=1.5)\n",
    "f['/entry/instrument/prefocusing_mirror/incident_angle'].attrs['units'] = '°'"
   ]
  },
  {
   "cell_type": "code",
   "execution_count": 27,
   "id": "TG4UmTWBBVB3",
   "metadata": {
    "colab": {
     "base_uri": "https://localhost:8080/"
    },
    "executionInfo": {
     "elapsed": 21,
     "status": "ok",
     "timestamp": 1718031496084,
     "user": {
      "displayName": "Cecilia Zagni",
      "userId": "14978044854869489491"
     },
     "user_tz": -120
    },
    "id": "TG4UmTWBBVB3",
    "outputId": "c39beb44-20c4-469c-c21b-637b60e85eb0"
   },
   "outputs": [
    {
     "data": {
      "text/plain": [
       "<HDF5 dataset \"description\": shape (), type \"|O\">"
      ]
     },
     "execution_count": 27,
     "metadata": {},
     "output_type": "execute_result"
    }
   ],
   "source": [
    "# /entry/instrument/reference_current\n",
    "f['/entry/instrument'].create_group(\"reference_current\")\n",
    "f['/entry/instrument/reference_current'].attrs[\"NX_class\"] = \"NXdetector\"\n",
    "\n",
    "# /entry/instrument/reference_current/data\n",
    "f['/entry/instrument/reference_current'].create_dataset('data',data=reference_current)\n",
    "f['/entry/instrument/reference_current/data'].attrs['description'] = 'Current measured on the reference powder after the interaction with the X-ray beam'\n",
    "f['/entry/instrument/reference_current/data'].attrs['units'] = 'A'\n",
    "\n",
    "# /entry/instrument/reference_current/description\n",
    "f['/entry/instrument/reference_current'].create_dataset('description',data='AH501B PICOAMMETER')"
   ]
  },
  {
   "cell_type": "code",
   "execution_count": 28,
   "id": "8EJZ91_qD57F",
   "metadata": {
    "colab": {
     "base_uri": "https://localhost:8080/"
    },
    "executionInfo": {
     "elapsed": 18,
     "status": "ok",
     "timestamp": 1718031496084,
     "user": {
      "displayName": "Cecilia Zagni",
      "userId": "14978044854869489491"
     },
     "user_tz": -120
    },
    "id": "8EJZ91_qD57F",
    "outputId": "da251024-a8a3-4607-a0ad-012297563b73"
   },
   "outputs": [
    {
     "data": {
      "text/plain": [
       "<HDF5 dataset \"description\": shape (), type \"|O\">"
      ]
     },
     "execution_count": 28,
     "metadata": {},
     "output_type": "execute_result"
    }
   ],
   "source": [
    "# /entry/instrument/absorbed_beam\n",
    "f['/entry/instrument'].create_group(\"absorbed_beam\")\n",
    "f['/entry/instrument/absorbed_beam'].attrs[\"NX_class\"] = \"NXdetector\"\n",
    "\n",
    "# /entry/instrument/absorbed_beam/data\n",
    "f['/entry/instrument/absorbed_beam'].create_dataset('data',data=sample_mesh)\n",
    "f['/entry/instrument/absorbed_beam/data'].attrs['description'] = 'absorbed_beam / incoming_beam'\n",
    "\n",
    "# /entry/instrument/absorbed_beam/description\n",
    "f['/entry/instrument/absorbed_beam'].create_dataset('description',data='AH501B PICOAMMETER')"
   ]
  },
  {
   "cell_type": "code",
   "execution_count": 29,
   "id": "AraCzqN1cQz8",
   "metadata": {
    "id": "AraCzqN1cQz8"
   },
   "outputs": [],
   "source": [
    "# /entry/instrument/absorbed_beam/raw_data\n",
    "f['/entry/instrument/absorbed_beam'].create_group(\"raw_data\")\n",
    "f['/entry/instrument/absorbed_beam/raw_data'].attrs[\"NX_class\"] = \"NXdata\"\n",
    "\n",
    "# sample_current\n",
    "f['/entry/instrument/absorbed_beam/raw_data'].create_dataset('sample_current',data=sample_current)\n",
    "f['/entry/instrument/absorbed_beam/raw_data/sample_current'].attrs['description'] = 'Current measured from the sample after the interaction with the X-ray beam.'\n",
    "f['/entry/instrument/absorbed_beam/raw_data/sample_current'].attrs['units'] = 'A'"
   ]
  },
  {
   "cell_type": "code",
   "execution_count": 30,
   "id": "rpKheLSYFuYz",
   "metadata": {
    "colab": {
     "base_uri": "https://localhost:8080/"
    },
    "executionInfo": {
     "elapsed": 15,
     "status": "ok",
     "timestamp": 1718031496084,
     "user": {
      "displayName": "Cecilia Zagni",
      "userId": "14978044854869489491"
     },
     "user_tz": -120
    },
    "id": "rpKheLSYFuYz",
    "outputId": "b6b5164b-1f65-43b0-a076-24f022580e8b"
   },
   "outputs": [
    {
     "data": {
      "text/plain": [
       "<HDF5 dataset \"type\": shape (), type \"|O\">"
      ]
     },
     "execution_count": 30,
     "metadata": {},
     "output_type": "execute_result"
    }
   ],
   "source": [
    "# /entry/instrument/undulator\n",
    "f['/entry/instrument'].create_group(\"undulator\")\n",
    "f['/entry/instrument/undulator'].attrs[\"NX_class\"] = \"NXinsertion_device\"\n",
    "\n",
    "# /entry/instrument/undulator/gap\n",
    "f['/entry/instrument/undulator'].create_dataset('gap',data=41.0)\n",
    "f['/entry/instrument/undulator/gap'].attrs['units'] = 'mm'\n",
    "\n",
    "# /entry/instrument/undulator/magnetic_wavelength\n",
    "f['/entry/instrument/undulator'].create_dataset('magnetic_wavelength',data=6)\n",
    "f['/entry/instrument/undulator/magnetic_wavelength'].attrs['units'] = 'cm'\n",
    "\n",
    "# /entry/instrument/undulator/phase\n",
    "f['/entry/instrument/undulator'].create_dataset('phase',data=21.80)\n",
    "f['/entry/instrument/undulator/phase'].attrs['units'] = 'mm'\n",
    "\n",
    "# /entry/instrument/undulator/type\n",
    "f['/entry/instrument/undulator'].create_dataset('type',data='undulator')"
   ]
  },
  {
   "cell_type": "code",
   "execution_count": 31,
   "id": "9MYzbxx5Gs1j",
   "metadata": {
    "id": "9MYzbxx5Gs1j"
   },
   "outputs": [],
   "source": [
    "# /entry/sample\n",
    "f['/entry'].create_group(\"sample\")\n",
    "f['/entry/sample'].attrs[\"NX_class\"] = \"NXsample\"\n",
    "\n",
    "# /entry/sample/name\n",
    "f['/entry/sample'].create_dataset('name',data='20uc LSMO annealed')\n",
    "\n",
    "# /entry/sample/pressure\n",
    "f['/entry/sample'].create_dataset('pressure',data=2.211E-9)\n",
    "f['/entry/sample/pressure'].attrs['units'] = 'mbar'\n",
    "\n",
    "# /entry/sample/situation\n",
    "f['/entry/sample'].create_dataset('situation',data='UHV')\n",
    "f['/entry/sample/situation'].attrs['units'] = 'mbar'\n",
    "\n",
    "# /entry/sample/temperature\n",
    "f['/entry/sample'].create_dataset('temperature',data=[273.1,273.1])\n",
    "f['/entry/sample/temperature'].attrs['units'] = 'K'"
   ]
  },
  {
   "cell_type": "code",
   "execution_count": 32,
   "id": "XiRDRiwgJlts",
   "metadata": {
    "id": "XiRDRiwgJlts"
   },
   "outputs": [],
   "source": [
    "# /entry/sample/transformations\n",
    "f['/entry/sample'].create_group(\"transformations\")\n",
    "f['/entry/sample/transformations'].attrs[\"NX_class\"] = \"NXtransformations\"\n",
    "\n",
    "# /entry/sample/transformations/phi(x)\n",
    "f['/entry/sample/transformations'].create_dataset('phi(x)',data=0)\n",
    "f['/entry/sample/transformations/phi(x)'].attrs['description'] = 'Rotation around the x axis'\n",
    "f['/entry/sample/transformations/phi(x)'].attrs['units'] = '°'\n",
    "\n",
    "# /entry/sample/transformations/theta(z)\n",
    "f['/entry/sample/transformations'].create_dataset('theta(z)',data=1.160e+2)\n",
    "f['/entry/sample/transformations/theta(z)'].attrs['description'] = 'Rotation around the z axis'\n",
    "f['/entry/sample/transformations/theta(z)'].attrs['units'] = '°'\n",
    "\n",
    "# /entry/sample/transformations/x\n",
    "f['/entry/sample/transformations'].create_dataset('x',data=-1.000e+0)\n",
    "f['/entry/sample/transformations/x'].attrs['description'] = 'Axis along the beam direction'\n",
    "f['/entry/sample/transformations/x'].attrs['units'] = 'mm'\n",
    "\n",
    "# /entry/sample/transformations/y\n",
    "f['/entry/sample/transformations'].create_dataset('y',data=2.100e-1)\n",
    "f['/entry/sample/transformations/y'].attrs['description'] = 'Axis perpendicular to the beam'\n",
    "f['/entry/sample/transformations/y'].attrs['units'] = 'mm'\n",
    "\n",
    "# /entry/sample/transformations/z\n",
    "f['/entry/sample/transformations'].create_dataset('z',data=1.775e+2)\n",
    "f['/entry/sample/transformations/z'].attrs['description'] = 'Axis along the vertical direction'\n",
    "f['/entry/sample/transformations/z'].attrs['units'] = 'mm'"
   ]
  },
  {
   "cell_type": "code",
   "execution_count": 33,
   "id": "SK5p_z4gMzW_",
   "metadata": {
    "colab": {
     "base_uri": "https://localhost:8080/"
    },
    "executionInfo": {
     "elapsed": 12,
     "status": "ok",
     "timestamp": 1718031496084,
     "user": {
      "displayName": "Cecilia Zagni",
      "userId": "14978044854869489491"
     },
     "user_tz": -120
    },
    "id": "SK5p_z4gMzW_",
    "outputId": "2967c234-5a45-48a0-8551-59d3b8509740"
   },
   "outputs": [
    {
     "data": {
      "text/plain": [
       "<HDF5 dataset \"name\": shape (), type \"|O\">"
      ]
     },
     "execution_count": 33,
     "metadata": {},
     "output_type": "execute_result"
    }
   ],
   "source": [
    "# /entry/user\n",
    "f['/entry'].create_group(\"user\")\n",
    "f['/entry/user'].attrs[\"NX_class\"] = \"NXuser\"\n",
    "\n",
    "# \\entry\\user\\name\n",
    "f['/entry/user'].create_dataset('name',data='Emma')"
   ]
  },
  {
   "cell_type": "code",
   "execution_count": 34,
   "id": "zk6bmGWOrhmc",
   "metadata": {
    "id": "zk6bmGWOrhmc"
   },
   "outputs": [],
   "source": [
    "# \\entry\\data --> group of the default plot\n",
    "f['/entry'].create_group(\"data\")\n",
    "f['/entry/data'].attrs[\"NX_class\"] = \"NXdata\"\n",
    "f['/entry/data'].attrs[\"signal\"] = \"sample_mesh_ratio\"\n",
    "f['/entry/data'].attrs[\"axes\"] = \"energy\"\n",
    "#nxdata.attrs[\"two_theta_indices\"] = [0,]"
   ]
  },
  {
   "cell_type": "code",
   "execution_count": 35,
   "id": "eAbGQdRLsd7B",
   "metadata": {
    "colab": {
     "base_uri": "https://localhost:8080/"
    },
    "executionInfo": {
     "elapsed": 10,
     "status": "ok",
     "timestamp": 1718031496085,
     "user": {
      "displayName": "Cecilia Zagni",
      "userId": "14978044854869489491"
     },
     "user_tz": -120
    },
    "id": "eAbGQdRLsd7B",
    "outputId": "93233695-98e4-4e47-c46c-4b6732a49eb0"
   },
   "outputs": [
    {
     "data": {
      "text/plain": [
       "<HDF5 dataset \"sample_mesh_ratio\": shape (201,), type \"<f8\">"
      ]
     },
     "execution_count": 35,
     "metadata": {},
     "output_type": "execute_result"
    }
   ],
   "source": [
    "# /entry/data/sample_mesh_ratio\n",
    "f['/entry/data'].create_dataset('sample_mesh_ratio',data=sample_mesh)"
   ]
  },
  {
   "cell_type": "code",
   "execution_count": 36,
   "id": "XhdR0CCGtO-q",
   "metadata": {
    "id": "XhdR0CCGtO-q"
   },
   "outputs": [],
   "source": [
    "# link a monochromator/energy\n",
    "source_addr = '/entry/instrument/monochromator/energy'  # existing data\n",
    "target_addr = \"energy\"  # new location\n",
    "f[source_addr].attrs[\"target\"] = source_addr  # a NeXus API convention for links\n",
    "f['/entry/data'][target_addr] = f[source_addr]  # hard link"
   ]
  },
  {
   "cell_type": "code",
   "execution_count": 37,
   "id": "5hV1R1IkryAK",
   "metadata": {
    "colab": {
     "base_uri": "https://localhost:8080/"
    },
    "executionInfo": {
     "elapsed": 9,
     "status": "ok",
     "timestamp": 1718031496596,
     "user": {
      "displayName": "Cecilia Zagni",
      "userId": "14978044854869489491"
     },
     "user_tz": -120
    },
    "id": "5hV1R1IkryAK",
    "outputId": "db430145-a0a5-4519-a9b7-6082417fb4e6"
   },
   "outputs": [
    {
     "name": "stdout",
     "output_type": "stream",
     "text": [
      "root:NXroot\n",
      "  @default = 'entry'\n",
      "  entry:NXentry\n",
      "    @default = 'data'\n",
      "    data:NXdata\n",
      "      @axes = 'energy'\n",
      "      @signal = 'sample_mesh_ratio'\n",
      "      energy -> /entry/instrument/monochromator/energy\n",
      "      sample_mesh_ratio = float64(201)\n",
      "    definition = 'NXxas'\n",
      "    duration = 82\n",
      "      @description = 'Duration of single scan'\n",
      "      @units = 's'\n",
      "    entry_identifier = '0005'\n",
      "    experiment_description = 'FAST-SCAN XAS (X-RAY ABSORPTION SPECTROSCOPY)'\n",
      "      @description = 'Technique'\n",
      "    instrument:NXinstrument\n",
      "      absorbed_beam:NXdetector\n",
      "        data = float64(201)\n",
      "          @description = 'absorbed_beam / incoming_beam'\n",
      "        description = 'AH501B PICOAMMETER'\n",
      "        raw_data:NXdata\n",
      "          sample_current = float64(201)\n",
      "            @description = 'Current measured from the sample after the int...'\n",
      "            @units = 'A'\n",
      "      incoming_beam:NXdetector\n",
      "        data = float64(201)\n",
      "          @description = 'Current at the entry of the endstation, measur...'\n",
      "          @units = 'A'\n",
      "        description = 'AH501B PICOAMMETER'\n",
      "      monochromator:NXmonochromator\n",
      "        energy = float64(201)\n",
      "          @description = 'Photon energy selected'\n",
      "          @target = '/entry/instrument/monochromator/energy'\n",
      "          @units = 'eV'\n",
      "        exit_slit:NXslit\n",
      "          x_gap = 31\n",
      "            @units = 'mm'\n",
      "        grating:NXgrating\n",
      "          deflection_angle = 170\n",
      "            @description = 'Deviation angle'\n",
      "            @units = '°'\n",
      "          depth = 110\n",
      "            @units = 'Å'\n",
      "          period = 900\n",
      "            @description = 'number of lines per mm'\n",
      "        mirror:NXmirror\n",
      "          coating_roughness = 0.19\n",
      "            @units = 'nm'\n",
      "          description = 'Hm2b monochromator mirror'\n",
      "          external_material = 'Si'\n",
      "          incident_angle = 2.5\n",
      "            @units = '°'\n",
      "          shape = 'nxsphere'\n",
      "      prefocusing_mirror:NXmirror\n",
      "        description = 'First mirror of the beamline. Spherical shape, radius 30...'\n",
      "        incident_angle = 1.5\n",
      "          @units = '°'\n",
      "      reference_current:NXdetector\n",
      "        data = float64(201)\n",
      "          @description = 'Current measured on the reference powder after...'\n",
      "          @units = 'A'\n",
      "        description = 'AH501B PICOAMMETER'\n",
      "      source:NXsource\n",
      "        current = '307.880'\n",
      "          @description = 'Ring current'\n",
      "          @units = 'mA'\n",
      "        energy = '2.000'\n",
      "          @description = 'Beam energy'\n",
      "          @units = 'GeV'\n",
      "        name = 'Elettra-Sincrotrone Trieste'\n",
      "        probe = 'X-ray'\n",
      "        type = 'Synchrotron X-ray source'\n",
      "      undulator:NXinsertion_device\n",
      "        gap = 41.0\n",
      "          @units = 'mm'\n",
      "        magnetic_wavelength = 6\n",
      "          @units = 'cm'\n",
      "        phase = 21.8\n",
      "          @units = 'mm'\n",
      "        type = 'undulator'\n",
      "    number_of_scans:NXparameters\n",
      "      term = 1\n",
      "    sample:NXsample\n",
      "      name = '20uc LSMO annealed'\n",
      "      pressure = 2.211e-09\n",
      "        @units = 'mbar'\n",
      "      situation = 'UHV'\n",
      "        @units = 'mbar'\n",
      "      temperature = [273.1 273.1]\n",
      "        @units = 'K'\n",
      "      transformations:NXtransformations\n",
      "        phi(x) = 0\n",
      "          @description = 'Rotation around the x axis'\n",
      "          @units = '°'\n",
      "        theta(z) = 116.0\n",
      "          @description = 'Rotation around the z axis'\n",
      "          @units = '°'\n",
      "        x = -1.0\n",
      "          @description = 'Axis along the beam direction'\n",
      "          @units = 'mm'\n",
      "        y = 0.21\n",
      "          @description = 'Axis perpendicular to the beam'\n",
      "          @units = 'mm'\n",
      "        z = 177.5\n",
      "          @description = 'Axis along the vertical direction'\n",
      "          @units = 'mm'\n",
      "    start_time = '2024-05-25T17:14:35+01:00'\n",
      "    title = '2024_03_06_0005'\n",
      "    user:NXuser\n",
      "      name = 'Emma'\n"
     ]
    }
   ],
   "source": [
    "# vedi\n",
    "test=nxload(filename)\n",
    "print(test.tree)"
   ]
  },
  {
   "cell_type": "code",
   "execution_count": 47,
   "id": "SNQxPDlw4YBd",
   "metadata": {
    "id": "SNQxPDlw4YBd"
   },
   "outputs": [],
   "source": [
    "# Close the file\n",
    "f.close()"
   ]
  },
  {
   "cell_type": "code",
   "execution_count": null,
   "id": "aqDHKUQhPCEB",
   "metadata": {
    "id": "aqDHKUQhPCEB"
   },
   "outputs": [],
   "source": []
  }
 ],
 "metadata": {
  "colab": {
   "provenance": []
  },
  "kernelspec": {
   "display_name": "Python 3 (ipykernel)",
   "language": "python",
   "name": "python3"
  },
  "language_info": {
   "codemirror_mode": {
    "name": "ipython",
    "version": 3
   },
   "file_extension": ".py",
   "mimetype": "text/x-python",
   "name": "python",
   "nbconvert_exporter": "python",
   "pygments_lexer": "ipython3",
   "version": "3.12.3"
  }
 },
 "nbformat": 4,
 "nbformat_minor": 5
}
