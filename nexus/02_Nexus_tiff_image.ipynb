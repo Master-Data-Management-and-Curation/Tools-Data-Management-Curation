{
 "cells": [
  {
   "cell_type": "markdown",
   "id": "95edc9fe-cf1e-421b-9c4e-4c0b9c8906e8",
   "metadata": {},
   "source": [
    "# Reading SEM images in tiff format and create a Nexus file\n",
    "\n",
    "In this notebook we define standard function to read tiff images and we try to build a 'Nexus' file."
   ]
  },
  {
   "cell_type": "code",
   "execution_count": 1,
   "id": "83a64c76-d816-4503-8c75-46d2c5192964",
   "metadata": {},
   "outputs": [
    {
     "name": "stdout",
     "output_type": "stream",
     "text": [
      "Collecting tifffile\n",
      "  Downloading tifffile-2024.9.20-py3-none-any.whl.metadata (32 kB)\n",
      "Requirement already satisfied: numpy in /Library/Frameworks/Python.framework/Versions/3.12/lib/python3.12/site-packages (from tifffile) (1.26.4)\n",
      "Downloading tifffile-2024.9.20-py3-none-any.whl (228 kB)\n",
      "\u001b[2K   \u001b[90m━━━━━━━━━━━━━━━━━━━━━━━━━━━━━━━━━━━━━━━━\u001b[0m \u001b[32m228.2/228.2 kB\u001b[0m \u001b[31m4.5 MB/s\u001b[0m eta \u001b[36m0:00:00\u001b[0m00:01\u001b[0m\n",
      "\u001b[?25hInstalling collected packages: tifffile\n",
      "Successfully installed tifffile-2024.9.20\n",
      "\n",
      "\u001b[1m[\u001b[0m\u001b[34;49mnotice\u001b[0m\u001b[1;39;49m]\u001b[0m\u001b[39;49m A new release of pip is available: \u001b[0m\u001b[31;49m24.1.2\u001b[0m\u001b[39;49m -> \u001b[0m\u001b[32;49m24.2\u001b[0m\n",
      "\u001b[1m[\u001b[0m\u001b[34;49mnotice\u001b[0m\u001b[1;39;49m]\u001b[0m\u001b[39;49m To update, run: \u001b[0m\u001b[32;49mpip install --upgrade pip\u001b[0m\n",
      "Note: you may need to restart the kernel to use updated packages.\n"
     ]
    }
   ],
   "source": [
    "pip install tifffile"
   ]
  },
  {
   "cell_type": "code",
   "execution_count": 1,
   "id": "f7ddbd5e-604d-4f9d-b7d6-f22d7cdc096f",
   "metadata": {},
   "outputs": [],
   "source": [
    "import numpy as np\n",
    "import h5py\n",
    "import tifffile\n",
    "path_file='' # insert the path of this notebook\n",
    "path_tiff='' # insert the path of the folder that contains images /hdf5/img_sem/'\n",
    "name_img='8_00.tif'"
   ]
  },
  {
   "cell_type": "markdown",
   "id": "fe467537-73e3-494f-ad4c-5e2877d28919",
   "metadata": {},
   "source": [
    "We define a function to read the metadata of a SEM image in tiff format"
   ]
  },
  {
   "cell_type": "code",
   "execution_count": 2,
   "id": "1ff1c800-98a9-4633-b51b-a56979647726",
   "metadata": {},
   "outputs": [],
   "source": [
    "def extract_tiff_metadata(file_path):\n",
    "   metadata = {}\n",
    "  # Open the TIFF file\n",
    "   with tifffile.TiffFile(file_path) as tif:\n",
    "    # Print general metadata\n",
    "      print(f\"File: {file_path}\")\n",
    "      print(f\"Number of pages: {len(tif.pages)}\")\n",
    "  # Iterate over pages and print page-specific metadata\n",
    "\n",
    "      for i, page in enumerate(tif.pages):\n",
    "             print(f\"\\nMetadata for page {i + 1}:\")\n",
    "             tags = page.tags\n",
    "             for tag in tags.values():\n",
    "                 name, value = tag.name, tag.value\n",
    "                 metadata[name] = value\n",
    "\n",
    "   return metadata\n",
    "\n",
    " \n",
    "\n"
   ]
  },
  {
   "cell_type": "markdown",
   "id": "e803c615-2e06-4671-b3af-0a9911b402d1",
   "metadata": {},
   "source": [
    "Let's give a look at the first keys and at those contained in the value of the key 'CZ_SEM'"
   ]
  },
  {
   "cell_type": "code",
   "execution_count": 26,
   "id": "b21c67b1-1fbb-43a3-aa69-49687b6d5b14",
   "metadata": {},
   "outputs": [
    {
     "name": "stdout",
     "output_type": "stream",
     "text": [
      "File: /Users/federica/Documents/Script/hdf5/img_sem/8_00.tif\n",
      "Number of pages: 1\n",
      "\n",
      "Metadata for page 1:\n",
      "dict_keys(['NewSubfileType', 'ImageWidth', 'ImageLength', 'BitsPerSample', 'Compression', 'PhotometricInterpretation', 'StripOffsets', 'SamplesPerPixel', 'RowsPerStrip', 'StripByteCounts', 'XResolution', 'YResolution', 'ResolutionUnit', 'ColorMap', 'CZ_SEM'])\n",
      "CZ_SEM\n",
      "dict_keys(['', 'dp_vent_invalid_reason', 'dp_optimode', 'dp_fixed_aperture', 'dp_input_lut_mode', 'dp_bsd_autolevel_mode', 'dp_recipe', 'dp_implied_detector', 'dp_4qbsd_visible', 'dp_opt_aperture', 'dp_track_z', 'dp_epse_electrode', 'dp_c3_rot_correction', 'dp_fisheye_mode', 'dp_stage_tilted', 'dp_ar_gun', 'dp_column_isolated', 'dp_mixing', 'dp_fib_fg_mode_target', 'dp_stem_gain', 'dp_high_current', 'dp_dwell_time', 'dp_si_noise_reduction', 'dp_right_frozen', 'dp_fib_fg_blanked', 'dp_fast_mode', 'dp_compucentric_mode', 'dp_anode_aperture_changer', 'dp_gis_shutdown_state', 'dp_fib_column', 'dp_tilted', 'dp_fib_suppressor', 'dp_vpse', 'dp_crosshairs', 'dp_double_deflection_state', 'dp_gate_valve_position', 'dp_hese2_fitted', 'dp_ep_mode', 'dp_condenser', 'dp_implied_invert', 'dp_4qbsd_gain', 'dp_fib_gun_valve', 'dp_aperture_state', 'dp_electron_counting', 'dp_saturate_at', 'dp_stage_angle', 'dp_image_store', 'dp_field_mode', 'dp_coolstage_type', 'dp_best_aperture', 'dp_fib_fg_mode_actual', 'dp_stem_auto', 'dp_stage_init', 'dp_cc_on_gis_channel', 'dp_channel', 'dp_fib_fg_fitted', 'dp_bsd_mode', 'dp_fib_mode', 'dp_nano_tips', 'dp_bsd_n_on_p', 'dp_mgs_evac_state', 'dp_use_epd', 'dp_mains_sync', 'dp_fib_pneumatic_prep_state', 'dp_frozen', 'dp_filament_type', 'dp_sample_holder', 'dp_fib_scan', 'dp_beam_blanked', 'dp_cc_type', 'dp_4qbsd', 'dp_image_saved', 'dp_mag_range', 'dp_user_align', 'dp_zone', 'dp_fil_blown', 'dp_humidity_valve', 'dp_peltier_photo', 'dp_main_detector', 'dp_invert', 'dp_fib_fg_remoting_target', 'dp_stage_is', 'dp_fib_present', 'dp_peltier_type', 'dp_signalaz0', 'dp_freeze_on', 'dp_fib_blanked', 'dp_stage_bias_high', 'dp_epse_gain', 'dp_end_detection', 'dp_vac_comms_fail', 'dp_bsd_auto', 'dp_pneumatic_device_in_use', 'dp_fib_wide_view', 'dp_anode', 'dp_use_ref_mag', 'dp_stage_bias_nse', 'dp_user_mag_cal', 'dp_safe_stem_valid', 'dp_4qbsd_q5', 'dp_scd_gain', 'dp_all_zones', 'dp_detector_channel', 'dp_eht_tripped', 'dp_flood_state', 'dp_extractor_trip', 'dp_bsd_fast_scan', 'dp_inlens_duo_mode', 'dp_auto_video', 'dp_fib_fg_remoting_actual', 'dp_signalaz1', 'dp_stage_bias_hv_fitted', 'dp_epse_auto', 'dp_stage_comms_fail', 'dp_optiprobe', 'dp_cls_valve', 'dp_newfilament', 'dp_image_detect', 'dp_custom_holder', 'dp_zoom', 'dp_scd_auto', 'dp_ext_scan_control', 'dp_detector_type', 'dp_eht_reset', 'dp_stem_q4', 'dp_fib_fg_extractor_target', 'dp_jazz_gain', 'dp_monitor', 'dp_freeze_status', 'dp_fib_extractor_conflict', 'dp_stage_bias_carassel_fitted', 'dp_epse_bandwidth', 'dp_stage_bias', 'dp_stigbalance', 'dp_frame_grabber', 'dp_vpse2', 'dp_4qbsd_q1', 'dp_fib_lock_mag', 'dp_freeze_blanks', 'dp_windowing', 'dp_partial_vent', 'dp_scd_bandwidth', 'dp_calibration', 'dp_stem_q1', 'dp_eht_vac_ready', 'dp_stem_q5', 'dp_fib_fg_extractor_actual', 'dp_bakeout_full', 'dp_water_ok', 'dp_low_mag', 'dp_vent_inhibited', 'dp_fib_probe', 'dp_lut_mode', 'dp_optibeam', 'dp_scangen_type', 'dp_final_lens', 'dp_ehtcommsfail', 'dp_scangen', 'dp_num_regions', 'dp_fib_error', 'dp_gis_heating_status_1', 'dp_quattro_bandwidth', 'dp_4qbsd_q2', 'dp_dynfocus', 'dp_supervisor', 'dp_colour_mode', 'dp_tilt_correction', 'dp_spot', 'dp_fixed_aperture2', 'dp_detector_fast_scan', 'dp_ion_detector_mode', 'dp_fisheye_fitted', 'dp_stem_q2', 'dp_pixel_size', 'dp_ebbu_mode', 'dp_fib_image_probe', 'dp_ar_mill', 'dp_fib_mag_range', 'dp_user_level', 'dp_ar_scan', 'dp_hp_status', 'dp_column_type', 'dp_large_beamshift', 'dp_ar_mfcvalve', 'dp_contrast_enhancement', 'dp_4qbsd_q3', 'dp_scan_rot', 'dp_dc_sem_state', 'dp_line_scan', 'dp_signalaz2', 'dp_scm_range', 'dp_fib_fg_floodgun_type', 'dp_stem_q3', 'dp_mag_cal', 'dp_hv_at_shutdown', 'dp_scm_status', 'dp_si_source', 'dp_conjugate', 'dp_fib_fg_status', 'dp_vp_optibeam', 'dp_condenser_reversed', 'dp_z0', 'dp_fib_mill_probe', 'dp_scint', 'dp_optiresmode', 'dp_jazz_bandwidth', 'dp_igp_enabled', 'dp_gate_valve', 'dp_peltier', 'dp_output_reduction', 'dp_4qbsd_q4', 'dp_aperture', 'dp_sem', 'dp_scan_orthog', 'dp_display_channels', 'dp_dual_monitor', 'dp_signalaz3', 'dp_c3_rot_sign', 'dp_stem_fast', 'dp_out_dev', 'dp_user', 'dp_fib_track_wd', 'dp_fib_fg_interlock', 'dp_low_kv_lens', 'dp_z1', 'dp_cc_status', 'dp_fib_gun_state', 'dp_ar_gun_state', 'dp_out_type', 'dp_column_chamber_valve', 'dp_column_pumping', 'dp_scanrate', 'dp_left_frozen', 'dp_operating_mode', 'dp_gis_channel', 'dp_fib_imaging', 'dp_c3reversal', 'dp_vac_mode', 'dp_column_mode', 'dp_stem_seg_mode', 'dp_calmode', 'dp_runupstate', 'dp_noise_reduction', 'dp_optibeam_state', 'dp_vacstatus', 'ap_fib_fg_emission_target', 'ap_fib_shift_correction_y', 'ap_mag', 'ap_line_time', 'ap_fib_mag_fine_gain_y', 'ap_spot_posn_y', 'ap_scanorthog_lower', 'ap_angular_3', 'ap_stage_vector_x', 'ap_ar_condenser', 'ap_minmag', 'ap_stage_goto_r', 'ap_hp_target', 'ap_eht_cal_100', 'ap_ppa_6', 'ap_v_3', 'ap_stage_delta_r', 'ap_file_number', 'ap_esd_lower_y', 'ap_free_wd', 'ap_brightnessz3', 'ap_fm_quadriture', 'ap_tilt_angle', 'ap_mill_list_elapsed_time', 'ap_stig_x', 'ap_ppb_2', 'ap_magcal_upper_y', 'ap_radial_1', 'ap_reduced_raster_width', 'ap_vpse2_bias', 'ap_stage_low_z', 'ap_ar_mag', 'ap_ar_shift_ratio_y', 'ap_scan_offset_x', 'ap_stage_high_t', 'ap_profile_top', 'ap_mag_gain_x', 'ap_h_7', 'ap_spacer_thickness', 'ap_stage_high_r', 'ap_fib_condenser', 'ap_fib_fg_fil_current_target', 'ap_dc_shift_x', 'ap_sem_level_at_tilt', 'ap_vac_ready_at', 'ap_c1rem', 'ap_fib_slice_width', 'ap_beamshift_y', 'ap_ppa_0', 'ap_tilt_align_x', 'ap_stage_xm_r', 'ap_si_topography', 'ap_stage_at_field_y', 'ap_ar_angle', 'ap_test_n', 'ap_h_1', 'ap_radial_area_0', 'ap_opt_semiangle', 'ap_fib_aperture_align_x', 'ap_fib_fil_i_target', 'ap_dc_max_pix_error', 'ap_inlens_duo_grid_actual', 'ap_fisheye_angle', 'ap_contrastz0', 'ap_dual_mag_offset_y', 'ap_mag_decl', 'ap_mag_gain_upper_x', 'ap_holder_length', 'ap_stage_fields_y', 'ap_fib_source_lifetime', 'ap_ar_gas_flow_actual', 'ap_gain', 'ap_conjugate', 'ap_mag_shift_x', 'ap_jazz_back_grid', 'ap_actualsupp', 'ap_aperture_align_x', 'ap_ppb_5', 'ap_v_8', 'ap_prof2_x2', 'ap_fib_magnification', 'ap_fib_fg_emission_actual', 'ap_fib_shift_correction_x', 'ap_iprobe', 'ap_fcf_tilt', 'ap_fib_mag_fine_gain_x', 'ap_stage_xm_angle', 'ap_spot_posn_x', 'ap_scanorthog_upper', 'ap_angular_2', 'ap_stage_goto_z', 'ap_ar_discharge_current', 'ap_spotsize', 'ap_ppa_5', 'ap_v_2', 'ap_stage_delta_t', 'ap_specimen_height', 'ap_esd_lower_x', 'ap_fib_emission_current', 'ap_fib_stig_y_centre_y', 'ap_brightnessz2', 'ap_fm_orthog', 'ap_tilt_axis', 'ap_mill_list_total_time', 'ap_apertureposn_y', 'ap_ppb_1', 'ap_magcal_upper_x', 'ap_radial_0', 'ap_epse_bias', 'ap_profile_w', 'ap_stage_low_y', 'ap_ar_beam_shift_y', 'ap_ar_shift_ratio_x', 'ap_xtalk21', 'ap_min_ext', 'ap_h_6', 'ap_stage_centre_y', 'ap_fib_scan_size', 'ap_stig_cal_y', 'ap_fib_ext_actual', 'ap_fib_fg_energy_actual', 'ap_fib_stig_x_centre_y', 'ap_piezo_goto_y', 'ap_fib_tilt_comp', 'ap_c1cal', 'ap_fib_slice_y', 'ap_beamshift_x', 'ap_red_raster_h', 'ap_magcal_base', 'ap_fib_nudge_step', 'ap_piezo_exchange_y', 'ap_stage_at_field_x', 'ap_ar_acc_i', 'ap_ar_mill_progress', 'ap_area_fraction', 'ap_nominalfil', 'ap_gun_y', 'ap_stage_vector_m', 'ap_h_0', 'ap_semiangle', 'ap_fib_scan_rotation', 'ap_fib_fil_v', 'ap_stageangle', 'ap_inlens_duo_grid', 'ap_manualcurrent', 'ap_brightnessz1', 'ap_dual_mag_offset_x', 'ap_mag_shift_lower_y', 'ap_holder_width', 'ap_si_factor', 'ap_stage_fields_x', 'ap_fib_probe_current_actual', 'ap_ar_gas_flow', 'ap_gamma', 'ap_jazz_front_grid', 'ap_actualext', 'ap_gunalign_y', 'ap_max_extractor_v', 'ap_ppb_4', 'ap_v_7', 'ap_prof2_x1', 'ap_fib_objective_potential', 'ap_fib_fg_extractor_voltage', 'ap_piezo_at_y', 'ap_emissionzoom', 'ap_zoom_factor', 'ap_fib_working_distance', 'ap_linetoframe_lower', 'ap_angular_1', 'ap_stage_goto_y', 'ap_ar_discharge_actual', 'ap_k2', 'ap_cc_pressure', 'ap_ppa_4', 'ap_v_1', 'ap_stage_delta_z', 'ap_esd_upper_y', 'ap_fib_abs_delta_beam_shift_y', 'ap_fib_suppressor_target', 'ap_fib_stig_y_centre_x', 'ap_purge_min', 'ap_fib_column_pressure', 'ap_fm_angle', 'ap_c3rem', 'ap_fib_pixel_size', 'ap_apertureposn_x', 'ap_ppb_0', 'ap_c3_save', 'ap_esb_grid_is', 'ap_eht_set_max', 'ap_stage_low_x', 'ap_ar_beam_shift_x', 'ap_ar_xy_ratio', 'ap_frame_ampl', 'ap_xtalk12', 'ap_manuallens', 'ap_h_5', 'ap_stage_centre_x', 'ap_stig_cal_x', 'ap_fib_ext_target', 'ap_fib_fg_energy_target', 'ap_fib_stig_x_centre_x', 'ap_piezo_goto_x', 'ap_c2', 'ap_mag_comp_offset', 'ap_fib_slice_x', 'ap_guntilt_y', 'ap_red_raster_w', 'ap_scan_rotation_offset_lower', 'ap_piezo_exchange_x', 'ap_stage_goto_field_y', 'ap_ar_extractor_actual', 'ap_auto_contrast', 'ap_implied_offset', 'ap_align1_y', 'ap_beam_offset_y', 'ap_white_detect', 'ap_gun_x', 'ap_water_temp_limit', 'ap_spot_x_cal', 'ap_fib_beam_shift_y', 'ap_fib_fil_i', 'ap_scanorthog', 'ap_manualkv', 'ap_magcalheight', 'ap_brightnessz0', 'ap_c3_decl', 'ap_mag_shift_lower_x', 'ap_holder_diameter', 'ap_si_threshold', 'ap_stage_scan_angle', 'ap_fib_objective_actual', 'ap_ar_objective_actual', 'ap_line_int_count', 'ap_filament_age', 'ap_dual_mag_y_slope', 'ap_stage_vector_t', 'ap_hcstage_temp', 'ap_gunalign_x', 'ap_eht_cal_30kv', 'ap_ppa_9', 'ap_v_6', 'ap_prof1_x2', 'ap_stage_bias_voltage', 'ap_vp_limit', 'ap_fib_eht_actual', 'ap_humidity_target', 'ap_piezo_at_x', 'ap_linetoframe_upper', 'ap_angular_0', 'ap_reduced_raster_y', 'ap_laser_finder_illum', 'ap_stage_goto_x', 'ap_column_vac', 'ap_ar_discharge', 'ap_k1', 'ap_line_average_count', 'ap_beam_time', 'ap_cursor_height', 'ap_profile_w2', 'ap_v_0', 'ap_stage_delta_y', 'ap_polaris_probe_cal', 'ap_esd_upper_x', 'ap_fib_abs_delta_beam_shift_x', 'ap_fib_drift_y', 'ap_purge_max', 'ap_fib_heating_limit', 'ap_c3cal', 'ap_line_counter', 'ap_aperturesize', 'ap_ppa_3', 'ap_wd_save', 'ap_liner_cal_at_10kv', 'ap_beam_current', 'ap_stage_high_z', 'ap_ion_convertor_voltage', 'ap_ar_mag_factor', 'ap_mag1', 'ap_manualsupp', 'ap_h_4', 'ap_sample_height', 'ap_fib_aper_y_actual', 'ap_fib_emission_target', 'ap_c1', 'ap_mag_comp_ampl', 'ap_fib_slice_index', 'ap_guntilt_x', 'ap_red_raster_posn_y', 'ap_mag_gain_lower_y', 'ap_holder_height', 'ap_specimen_diameter', 'ap_stage_goto_field_x', 'ap_ar_extractor', 'ap_auto_bright', 'ap_implied_gain', 'ap_align1_x', 'ap_beam_offset_x', 'ap_black_detect', 'ap_nominalext', 'ap_aperture_y', 'ap_stage_high_m', 'ap_water_temp', 'ap_user_max_eht', 'ap_ccd_illumination', 'ap_fib_beam_shift_x', 'ap_scanrotation', 'ap_fib_focus', 'ap_usermaxcurrent', 'ap_magcalwidth', 'ap_defect_id', 'ap_wd_decl', 'ap_mag_shift_upper_y', 'ap_si_enhancement', 'ap_stage_vector_z', 'ap_ar_objective', 'ap_frame_int_count', 'ap_alias_wd', 'ap_stage_vector_r', 'ap_eht_cal_24kv', 'ap_ppa_8', 'ap_v_5', 'ap_prof1_x1', 'ap_hrru_number', 'ap_fib_eht_target', 'ap_humidity', 'ap_esb_grid_max', 'ap_contrastz3', 'ap_mill_item_elapsed_time', 'ap_stage_bias_voltage_high', 'ap_magcal_lower_y', 'ap_radial_3', 'ap_fib_condenser_actual', 'ap_ar_acc_actual', 'ap_scm', 'ap_photo_number', 'ap_field_overlap', 'ap_spot', 'ap_cursor_width', 'ap_profile_w1', 'ap_h_9', 'ap_stage_delta_x', 'ap_compu_tilt_error', 'ap_fib_drift_x', 'ap_purge_cycles', 'ap_c3', 'ap_epd_low', 'ap_c2rem', 'ap_fib_slice_angle', 'ap_zoompos_y', 'ap_ppa_2', 'ap_clip_limit', 'ap_liner_cal_at_100v', 'ap_pixel_size', 'ap_stage_high_y', 'ap_ion_collector_voltage', 'ap_ar_pixel_size', 'ap_mag0', 'ap_min_wd', 'ap_manualext', 'ap_h_3', 'ap_image_pixel_size', 'ap_fib_aper_x_actual', 'ap_fib_suppressor', 'ap_dc_max_attempts', 'ap_beam_shift_align_y', 'ap_brightness', 'ap_fisheye_quadriture', 'ap_gunshift_y', 'ap_red_raster_posn_x', 'ap_mag_gain_lower_x', 'ap_stage_field_size_y', 'ap_ar_v_int_actual', 'ap_contrast', 'ap_height', 'ap_eht_set_min', 'ap_extcurrent', 'ap_aperture_x', 'ap_stage_low_m', 'ap_fcf_setting', 'ap_radial_area_3', 'ap_fib_stigmator_y', 'ap_frame_counter', 'ap_fib_fg_fil_current_actual', 'ap_ep_target', 'ap_wd', 'ap_hsync_delay', 'ap_frame_time', 'ap_fib_gun_pressure', 'ap_mag_shift_upper_x', 'ap_compu_tilt_offset', 'ap_stage_vector_y', 'ap_ar_condenser_actual', 'ap_frame_average_count', 'ap_dual_mag_slope', 'ap_stage_goto_t', 'ap_chamber_pressure', 'ap_eht_cal_10kv', 'ap_ppa_7', 'ap_v_4', 'ap_stage_delta_m', 'ap_print_number', 'ap_esd_excitation', 'ap_peltier_target', 'ap_esb_grid', 'ap_contrastz2', 'ap_mill_item_total_time', 'ap_stig_y', 'ap_ppb_3', 'ap_magcal_lower_x', 'ap_radial_2', 'ap_system_vac', 'ap_ar_acc', 'ap_scan_offset_y', 'ap_stage_low_t', 'ap_mag_gain_y', 'ap_h_8', 'ap_stage_low_r', 'ap_dc_shift_y', 'ap_fib_sem_angle', 'ap_epd_high', 'ap_c2cal', 'ap_fib_slice_height', 'ap_zoompos_x', 'ap_ppa_1', 'ap_tilt_align_y', 'ap_fib_min_autoheat_current', 'ap_chamber_pressure_detailed', 'ap_stage_high_x', 'ap_collector_bias', 'ap_max_wd', 'ap_test_val', 'ap_h_2', 'ap_radial_area_1', 'ap_fib_aperture_align_y', 'ap_fib_fil_v_target', 'ap_dc_min_conf', 'ap_beam_shift_align_x', 'ap_fisheye_orthog', 'ap_gunshift_x', 'ap_contrastz1', 'ap_focus_rotation_comp', 'ap_mag_gain_upper_y', 'ap_fib_track_wd_delta', 'ap_stage_field_size_x', 'ap_ar_v_int', 'ap_offset', 'ap_width', 'ap_mag_shift_y', 'ap_pirani_pressure', 'ap_actuallens', 'ap_aperture_align_y', 'ap_stage_goto_m', 'ap_ppb_6', 'ap_v_9', 'ap_radial_area_2', 'ap_fib_fg_serial_number', 'ap_fib_stigmator_x', 'ap_stage_at_m', 'ap_stage_at_z', 'ap_stage_at_y', 'ap_actualcurrent', 'ap_stage_at_x', 'ap_actualkv', 'ap_stage_at_t', 'ap_sample_at_y', 'ap_stage_at_r', 'ap_sample_at_x', 'ap_time', 'ap_date', 'sv_version', 'sv_user_text', 'sv_file_name', 'sv_image_path', 'sv_user_name', 'sv_sample_id', 'sv_serial_number', 'sv_operator'])\n"
     ]
    }
   ],
   "source": [
    "metadata = extract_tiff_metadata(path_tiff+name_img)\n",
    "print(metadata.keys())\n",
    "print('CZ_SEM')\n",
    "print(metadata['CZ_SEM'].keys())"
   ]
  },
  {
   "cell_type": "markdown",
   "id": "7ba12cb2-3fb4-400f-b653-94cc84c8358a",
   "metadata": {},
   "source": [
    "You may extract the data as an array with"
   ]
  },
  {
   "cell_type": "code",
   "execution_count": 38,
   "id": "bc05c007-e13e-4dd8-bed3-3076f7dd30c0",
   "metadata": {},
   "outputs": [],
   "source": [
    "image_array = tifffile.imread(path_tiff+name_img)\n"
   ]
  },
  {
   "cell_type": "markdown",
   "id": "29c32149-e2a2-4b40-b197-fecd7d9dcf61",
   "metadata": {},
   "source": [
    "### Exercise \n",
    "\n",
    "Consider the NXem application definition https://fairmat-nfdi.github.io/nexus_definitions/classes/contributed_definitions/em-structure.html#em-structure. Choose some of the base classes that compone it and try to create a 'pseudo_nexus_em' starting from the SEM images at disposal.  \n",
    "\n",
    "*Suggestion : try to map what you know about  a SEM  measurement with the base classes you have chosen.* "
   ]
  },
  {
   "cell_type": "code",
   "execution_count": null,
   "id": "098a1c7a-b9c9-4779-849f-7548c2fa98fe",
   "metadata": {},
   "outputs": [],
   "source": []
  }
 ],
 "metadata": {
  "kernelspec": {
   "display_name": "Python 3 (ipykernel)",
   "language": "python",
   "name": "python3"
  },
  "language_info": {
   "codemirror_mode": {
    "name": "ipython",
    "version": 3
   },
   "file_extension": ".py",
   "mimetype": "text/x-python",
   "name": "python",
   "nbconvert_exporter": "python",
   "pygments_lexer": "ipython3",
   "version": "3.12.3"
  }
 },
 "nbformat": 4,
 "nbformat_minor": 5
}
