{
 "cells": [
  {
   "cell_type": "markdown",
   "id": "eb29ce54-3bfa-4e93-ae35-c55c24154772",
   "metadata": {},
   "source": [
    "# TOY PIPELINE\n",
    "\n",
    "In this notebook we set-up a toy-pipeline that take metadata by elabFTW and insert them in a hdf5 file. To realize ths we will\n",
    "- get the metadata by elabFTW by using its API\n",
    "- read the output file\n",
    "- create an empty hdf5 file\n",
    "- map the metadata we are interested in, in the hdf5 fields"
   ]
  },
  {
   "cell_type": "markdown",
   "id": "c34b069e-1d6e-4b6d-a1d2-86aa3bc0adca",
   "metadata": {},
   "source": [
    "### Set up"
   ]
  },
  {
   "cell_type": "code",
   "execution_count": 1,
   "id": "4e6c9e8d-43fa-4873-a645-016942e2644b",
   "metadata": {},
   "outputs": [
    {
     "name": "stdout",
     "output_type": "stream",
     "text": [
      "Requirement already satisfied: nexusformat in /Library/Frameworks/Python.framework/Versions/3.12/lib/python3.12/site-packages (1.0.6)\n",
      "Requirement already satisfied: numpy in /Library/Frameworks/Python.framework/Versions/3.12/lib/python3.12/site-packages (from nexusformat) (1.26.4)\n",
      "Requirement already satisfied: scipy in /Library/Frameworks/Python.framework/Versions/3.12/lib/python3.12/site-packages (from nexusformat) (1.14.1)\n",
      "Requirement already satisfied: h5py>=2.9 in /Library/Frameworks/Python.framework/Versions/3.12/lib/python3.12/site-packages (from nexusformat) (3.12.1)\n",
      "Requirement already satisfied: hdf5plugin in /Library/Frameworks/Python.framework/Versions/3.12/lib/python3.12/site-packages (from nexusformat) (5.0.0)\n",
      "\n",
      "\u001b[1m[\u001b[0m\u001b[34;49mnotice\u001b[0m\u001b[1;39;49m]\u001b[0m\u001b[39;49m A new release of pip is available: \u001b[0m\u001b[31;49m24.1.2\u001b[0m\u001b[39;49m -> \u001b[0m\u001b[32;49m24.2\u001b[0m\n",
      "\u001b[1m[\u001b[0m\u001b[34;49mnotice\u001b[0m\u001b[1;39;49m]\u001b[0m\u001b[39;49m To update, run: \u001b[0m\u001b[32;49mpip install --upgrade pip\u001b[0m\n",
      "Note: you may need to restart the kernel to use updated packages.\n"
     ]
    }
   ],
   "source": [
    "pip install nexusformat"
   ]
  },
  {
   "cell_type": "code",
   "execution_count": 20,
   "id": "5e7411a5-fb91-4c4e-b729-cdb33303aa54",
   "metadata": {},
   "outputs": [],
   "source": [
    "import datetime\n",
    "# the python library for elabftw\n",
    "import elabapi_python\n",
    "import json\n",
    "import csv\n",
    "import os\n",
    "import ast\n",
    "import pprint\n",
    "import h5py\n",
    "from nexusformat.nexus import *\n",
    "\n",
    "path=\" \" #insert your path\n",
    "\n",
    "\n"
   ]
  },
  {
   "cell_type": "markdown",
   "id": "8a08bd65-2a22-4804-b2b6-cef5196ea819",
   "metadata": {},
   "source": [
    "###  API configuration"
   ]
  },
  {
   "cell_type": "code",
   "execution_count": 21,
   "id": "ff769d86-d128-4d31-80e8-ca1a33697332",
   "metadata": {},
   "outputs": [],
   "source": [
    "\n",
    "# replace with the URL of your instance\n",
    "API_HOST_URL = 'https://nffa-di-electronic-lab.areasciencepark.it/api/v2/'\n",
    "# replace with your api key\n",
    "API_KEY = ''#insert your key"
   ]
  },
  {
   "cell_type": "markdown",
   "id": "21b4f08f-3d57-48f4-b72f-c76c3bb006e5",
   "metadata": {},
   "source": [
    "### ElabFTW get\n",
    "\n",
    "Now we will use the elab API to get the experiment that have id=48 and save the response  in a json file 'exp48.json'. We are not going to use the python library elabapi_python but using the package 'os' we work as we were on the shell and use the command curl."
   ]
  },
  {
   "cell_type": "code",
   "execution_count": 22,
   "id": "8ec3eec5-b2bb-4d88-8c91-47cac68a4d94",
   "metadata": {},
   "outputs": [
    {
     "name": "stderr",
     "output_type": "stream",
     "text": [
      "  % Total    % Received % Xferd  Average Speed   Time    Time     Time  Current\n",
      "                                 Dload  Upload   Total   Spent    Left  Speed\n",
      "100  2464    0  2464    0     0   8730      0 --:--:-- --:--:-- --:--:--  8737\n"
     ]
    },
    {
     "data": {
      "text/plain": [
       "0"
      ]
     },
     "execution_count": 22,
     "metadata": {},
     "output_type": "execute_result"
    }
   ],
   "source": [
    "os.system('curl -H \"Authorization: '+API_KEY+'\"'+\"GET https://nffa-di-electronic-lab.areasciencepark.it/api/v2/experiments/48  -H 'accept: application/json' >\"+ path+'exp48.json')  "
   ]
  },
  {
   "cell_type": "markdown",
   "id": "55e68156-21a6-4cec-8f3e-d9d3b2201fda",
   "metadata": {},
   "source": [
    "The response is '0' that means everything has gone well!\n",
    "Now let's look at the file."
   ]
  },
  {
   "cell_type": "code",
   "execution_count": 23,
   "id": "6832842c-1d4a-44d9-b5ae-3f69a75301ea",
   "metadata": {},
   "outputs": [
    {
     "data": {
      "text/plain": [
       "{'access_key': None,\n",
       " 'body': '',\n",
       " 'body_html': '',\n",
       " 'canread': '{\"base\": 30, \"teams\": [], \"users\": [], \"teamgroups\": []}',\n",
       " 'canwrite': '{\"base\": 20, \"teams\": [], \"users\": [], \"teamgroups\": []}',\n",
       " 'category': 6,\n",
       " 'category_color': 'b1a9d1',\n",
       " 'category_title': 'NXem_toy',\n",
       " 'comments': [],\n",
       " 'content_type': 1,\n",
       " 'created_at': '2024-10-10 09:49:44',\n",
       " 'custom_id': None,\n",
       " 'date': '2024-10-10',\n",
       " 'elabid': '20241010-2c7fc8842cab5d99c5d67ec8d8bbe743a5f9376e',\n",
       " 'events_start': None,\n",
       " 'experiments_links': [],\n",
       " 'firstname': 'Federica',\n",
       " 'fullname': 'Federica Bazzocchi',\n",
       " 'has_attachment': None,\n",
       " 'has_comment': 0,\n",
       " 'id': 48,\n",
       " 'items_links': [],\n",
       " 'lastchangeby': 3,\n",
       " 'lastname': 'Bazzocchi',\n",
       " 'locked': 0,\n",
       " 'locked_at': None,\n",
       " 'lockedby': None,\n",
       " 'metadata': '{\"elabftw\": {\"extra_fields_groups\": [{\"id\": 1, \"name\": \"Sample\"}, {\"id\": 2, \"name\": \"Coordinate_System_Set\"}, {\"id\": 3, \"name\": \"Fields\"}]}, \"extra_fields\": {\"Definition\": {\"type\": \"text\", \"value\": \"NXem\", \"group_id\": 3, \"required\": true}, \"Start_Time\": {\"type\": \"date\", \"value\": \"2024-10-10\", \"group_id\": 3, \"required\": true}, \"Experiment_alias\": {\"type\": \"text\", \"value\": \"em_toy_id1\", \"group_id\": 3, \"required\": true}}}',\n",
       " 'metadata_decoded': {'elabftw': {'extra_fields_groups': [{'id': 1,\n",
       "     'name': 'Sample'},\n",
       "    {'id': 2, 'name': 'Coordinate_System_Set'},\n",
       "    {'id': 3, 'name': 'Fields'}]},\n",
       "  'extra_fields': {'Definition': {'type': 'text',\n",
       "    'value': 'NXem',\n",
       "    'group_id': 3,\n",
       "    'required': True},\n",
       "   'Start_Time': {'type': 'date',\n",
       "    'value': '2024-10-10',\n",
       "    'group_id': 3,\n",
       "    'required': True},\n",
       "   'Experiment_alias': {'type': 'text',\n",
       "    'value': 'em_toy_id1',\n",
       "    'group_id': 3,\n",
       "    'required': True}}},\n",
       " 'modified_at': '2024-10-10 09:50:38',\n",
       " 'next_step': None,\n",
       " 'orcid': None,\n",
       " 'page': 'experiments',\n",
       " 'rating': 0,\n",
       " 'recent_comment': None,\n",
       " 'related_experiments_links': [],\n",
       " 'related_items_links': [],\n",
       " 'sharelink': 'https://nffa-di-electronic-lab.areasciencepark.it/experiments.php?mode=view&id=48',\n",
       " 'state': 1,\n",
       " 'status': None,\n",
       " 'status_color': None,\n",
       " 'status_title': None,\n",
       " 'steps': [],\n",
       " 'tags': None,\n",
       " 'tags_id': None,\n",
       " 'team': 13,\n",
       " 'team_name': 'MASTER',\n",
       " 'timestamped': 0,\n",
       " 'timestamped_at': None,\n",
       " 'timestampedby': None,\n",
       " 'title': 'NXem_toy_id1',\n",
       " 'type': 'experiments',\n",
       " 'up_item_id': None,\n",
       " 'uploads': [],\n",
       " 'userid': 3}"
      ]
     },
     "execution_count": 23,
     "metadata": {},
     "output_type": "execute_result"
    }
   ],
   "source": [
    "with open(path+'exp48.json', \"r\") as jsonfile:\n",
    "        dic_exp = json.load(jsonfile) \n",
    "dic_exp"
   ]
  },
  {
   "cell_type": "markdown",
   "id": "f0eedf2a-f275-4da9-98a4-bdcf87efb146",
   "metadata": {},
   "source": [
    "It is a json file that contains all the informations present in the experiment page (all the metadata!) but we built the template in such  a way that we are interested only in the 'value' correspponding to the 'metadata' key. Notice that it was our choice neglecting comments or attachments. If we would us ethem we should change the mapping! \n",
    "Let's look at the 'value' corresponding to the metadata key."
   ]
  },
  {
   "cell_type": "code",
   "execution_count": 24,
   "id": "e16d8fa8-b78f-4573-ac30-94c660828eb8",
   "metadata": {},
   "outputs": [
    {
     "data": {
      "text/plain": [
       "'{\"elabftw\": {\"extra_fields_groups\": [{\"id\": 1, \"name\": \"Sample\"}, {\"id\": 2, \"name\": \"Coordinate_System_Set\"}, {\"id\": 3, \"name\": \"Fields\"}]}, \"extra_fields\": {\"Definition\": {\"type\": \"text\", \"value\": \"NXem\", \"group_id\": 3, \"required\": true}, \"Start_Time\": {\"type\": \"date\", \"value\": \"2024-10-10\", \"group_id\": 3, \"required\": true}, \"Experiment_alias\": {\"type\": \"text\", \"value\": \"em_toy_id1\", \"group_id\": 3, \"required\": true}}}'"
      ]
     },
     "execution_count": 24,
     "metadata": {},
     "output_type": "execute_result"
    }
   ],
   "source": [
    "dic_exp['metadata']"
   ]
  },
  {
   "cell_type": "markdown",
   "id": "5bba67eb-73fc-44cb-9ccd-758bcdd4d38e",
   "metadata": {},
   "source": [
    "It is a string...let us transform it in a dictionary. Moreover since \"true\" will not be recognized by python let us replace \"true\" with \"True\"."
   ]
  },
  {
   "cell_type": "code",
   "execution_count": 25,
   "id": "7977386e-8f8d-442c-90d4-427dd840dc6d",
   "metadata": {},
   "outputs": [],
   "source": [
    "dic_meta=eval(dic_exp['metadata'].replace('true','True') )\n"
   ]
  },
  {
   "cell_type": "markdown",
   "id": "e08cffd0-5d35-4ba7-83c9-27358d51694f",
   "metadata": {},
   "source": [
    "Let's explore "
   ]
  },
  {
   "cell_type": "code",
   "execution_count": 26,
   "id": "cc3da8d7-8b7e-4d30-a5b1-8b99d078ee27",
   "metadata": {},
   "outputs": [
    {
     "name": "stdout",
     "output_type": "stream",
     "text": [
      "key: elabftw\n",
      "{'extra_fields_groups': [{'id': 1, 'name': 'Sample'}, {'id': 2, 'name': 'Coordinate_System_Set'}, {'id': 3, 'name': 'Fields'}]}\n",
      "key: extra_fields\n",
      "{'Definition': {'type': 'text', 'value': 'NXem', 'group_id': 3, 'required': True}, 'Start_Time': {'type': 'date', 'value': '2024-10-10', 'group_id': 3, 'required': True}, 'Experiment_alias': {'type': 'text', 'value': 'em_toy_id1', 'group_id': 3, 'required': True}}\n"
     ]
    }
   ],
   "source": [
    "for key, value in dic_meta.items():\n",
    "    print('key:',key)\n",
    "    print(value)"
   ]
  },
  {
   "cell_type": "markdown",
   "id": "5aeb1a92-6a87-4722-b919-4870c9c18a88",
   "metadata": {},
   "source": [
    "Corresponding to the 'elabftw' key there are the groups according to which we have organized the metadata. We have used only the group 'fields' to tell us that in that group we will put metadata that will be mapped in fields of the hdf5 file.\n",
    "The 'extra_fields' key's value is a dictionary where:\n",
    "- the key are the fields name\n",
    "- the value are dictionary with the key type,value acquired by the field (we are interested in this!!!) and the corresponding group (in our case there is only a group, the fields one)"
   ]
  },
  {
   "cell_type": "markdown",
   "id": "6bbe9ecb-8db9-4de1-8b0d-6e9251877664",
   "metadata": {},
   "source": [
    "# Preparing the hdf5/NeXus file"
   ]
  },
  {
   "cell_type": "markdown",
   "id": "3a1d74cb-dd34-4da0-aa44-4fd9255c6d75",
   "metadata": {},
   "source": [
    "First we initialize a file, then we create the main group corresponding to the NXentry"
   ]
  },
  {
   "cell_type": "code",
   "execution_count": 27,
   "id": "e1e3cee6-87b6-49fa-958b-3cb7e3f0d1ef",
   "metadata": {},
   "outputs": [],
   "source": [
    "f=h5py.File(path+'NXem_toy.nxs','w')\n",
    "f.attrs['default']='entry'"
   ]
  },
  {
   "cell_type": "code",
   "execution_count": 28,
   "id": "543da999-268d-495a-8b02-5ffcf24b0bc7",
   "metadata": {},
   "outputs": [],
   "source": [
    "g_entry=f.create_group(\"entry\")\n",
    "g_entry.attrs[\"NX_class\"]=\"NXentry\""
   ]
  },
  {
   "cell_type": "raw",
   "id": "65eff5ee-a47b-4a6b-b0ac-70ac2362440f",
   "metadata": {},
   "source": [
    "Now we insert the fields according to the toy schema\n",
    "NXentry _\n",
    "        |_field: definition\n",
    "        |_field: start_time\n",
    "        |_field: experiment_alias"
   ]
  },
  {
   "cell_type": "code",
   "execution_count": 29,
   "id": "1fcbbb83-4f29-4ae8-98f8-6bc07727fa2c",
   "metadata": {},
   "outputs": [
    {
     "data": {
      "text/plain": [
       "<HDF5 dataset \"experiment_alias\": shape (), type \"|O\">"
      ]
     },
     "execution_count": 29,
     "metadata": {},
     "output_type": "execute_result"
    }
   ],
   "source": [
    "g_entry[\"definition\"]=str(dic_meta['extra_fields']['Definition']['value'])\n",
    "g_entry[\"start_time\"]=dic_meta['extra_fields']['Start_Time']['value']\n",
    "f[\"/entry\"].create_dataset(\"experiment_alias\",data=dic_meta['extra_fields']['Experiment_alias']['value'])\n",
    "#g_entry['experiment_alias']=dic_meta['extra_fields']['Experiment_alias']['value']"
   ]
  },
  {
   "cell_type": "code",
   "execution_count": 30,
   "id": "fb6f5809-321d-45c7-97f6-5606872b091e",
   "metadata": {},
   "outputs": [
    {
     "name": "stdout",
     "output_type": "stream",
     "text": [
      "entry\n",
      "entry/definition\n",
      "entry/experiment_alias\n",
      "entry/start_time\n"
     ]
    }
   ],
   "source": [
    "def printname(name):\n",
    "    print(name)\n",
    "f.visit(printname)    "
   ]
  },
  {
   "cell_type": "code",
   "execution_count": 31,
   "id": "47fd2e91-63bc-45f1-85ef-0ffd3c2b3a65",
   "metadata": {},
   "outputs": [],
   "source": [
    "f.close()"
   ]
  },
  {
   "cell_type": "code",
   "execution_count": 32,
   "id": "63e1f214-0763-4887-8608-624ec8e7af1a",
   "metadata": {},
   "outputs": [
    {
     "name": "stdout",
     "output_type": "stream",
     "text": [
      "root:NXroot\n",
      "  @default = 'entry'\n",
      "  entry:NXentry\n",
      "    definition = 'NXem'\n",
      "    experiment_alias = 'em_toy_id1'\n",
      "    start_time = '2024-10-10'\n"
     ]
    }
   ],
   "source": [
    "test=nxload(path+'NXem_toy.nxs')\n",
    "print(test.tree)"
   ]
  },
  {
   "cell_type": "markdown",
   "id": "4bc6f3ec-4753-49d3-8fbf-764261cec6f9",
   "metadata": {},
   "source": [
    "## Pre-Exercise \n",
    "Visualize the nxs we have created by using the online service https://myhdf5.hdfgroup.org/"
   ]
  },
  {
   "cell_type": "markdown",
   "id": "b20ba59b-6624-4476-829d-f9975c8bb926",
   "metadata": {},
   "source": [
    "## Exercise 1 \n",
    "By using the 'str'.lower() function define the fields name g_entry[field_name] as function of the key of the dictionary dic_meta[extra_fields]\n"
   ]
  },
  {
   "cell_type": "markdown",
   "id": "fff3cd7c-ee96-42a1-b4d8-92e07dfeb8eb",
   "metadata": {},
   "source": [
    "## Exercise 2 \n",
    "By using the result in Exercize 1 try to define a function that take as input dic_meta['extra_field'] and gives as output the 3 fields g_entry[field_name]\n"
   ]
  },
  {
   "cell_type": "code",
   "execution_count": null,
   "id": "cb5feb6a-6a88-425c-9af4-1452283313e7",
   "metadata": {},
   "outputs": [],
   "source": []
  }
 ],
 "metadata": {
  "kernelspec": {
   "display_name": "Python 3 (ipykernel)",
   "language": "python",
   "name": "python3"
  },
  "language_info": {
   "codemirror_mode": {
    "name": "ipython",
    "version": 3
   },
   "file_extension": ".py",
   "mimetype": "text/x-python",
   "name": "python",
   "nbconvert_exporter": "python",
   "pygments_lexer": "ipython3",
   "version": "3.12.3"
  }
 },
 "nbformat": 4,
 "nbformat_minor": 5
}
