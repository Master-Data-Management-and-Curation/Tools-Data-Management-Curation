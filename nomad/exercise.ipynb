{
 "cells": [
  {
   "cell_type": "markdown",
   "id": "7120c76f",
   "metadata": {},
   "source": [
    "# Interacting with NOMAD Oasis via API\n",
    "\n",
    "### Exercises\n",
    "\n",
    "Learn to interact with NOMAD Oasis via API, using the Python `requests` library.\n",
    "\n",
    "\n",
    "You can practice using NOMAD with the example NOMAD Oasis provided by FAIRMat: https://nomad-lab.eu/prod/v1/oasis/gui/search/entries\n",
    "\n",
    "Perform the following actions:\n",
    "- Get an access token\n",
    "- Create a dataset for grouping uploads\n",
    "- (Optional) Get a list of all the datasets\n",
    "- Upload some test data to NOMAD\n",
    "- Check the Upload status\n",
    "- Show the metadata for your Upload\n",
    "- Update the metadata for your Upload: add coauthor(s), references, and other comments, as well as link to a dataset\n",
    "- Perform a search query (get help from the NOMAD Oasis GUI)\n",
    "- Download all the files for a given Upload_id\n",
    "- (Optional) Get your colleague's user information\n",
    "\n",
    "#### If you feel confident\n",
    "\n",
    "Go to Python `requests` library documentation (https://requests.readthedocs.io/en/latest/) to understand how to meke a GET and a POST request.\n",
    "\n",
    "Get an overview of all NOMAD APIs on the API page: https://nomad-lab.eu/prod/v1/api/v1/extensions/docs#/\n",
    "\n",
    "Ask questions if you have any doubts!\n",
    "\n",
    "\n",
    "#### If you'd like extra guidance\n",
    "\n",
    "We have prepared some simple python functions to facilitate use of this API, you can find them in the `NOMAD_APY.py` script.\n",
    "\n",
    "Carefully read through and understand what each function does.\n",
    "\n",
    "Once you’ve familiarized yourself with the functions, import the script and use them in your code to complete the exercises.\n",
    "\n",
    "Ask questions if you have any doubts!"
   ]
  },
  {
   "cell_type": "code",
   "execution_count": 26,
   "id": "2f3683a8-abce-45a9-9628-cef6ed1f37ee",
   "metadata": {},
   "outputs": [],
   "source": [
    "from NOMAD_API import *\n",
    "import json"
   ]
  },
  {
   "cell_type": "code",
   "execution_count": null,
   "id": "2361dea7",
   "metadata": {},
   "outputs": [],
   "source": [
    "nomad_url = 'http://nomad-lab.eu/prod/v1/oasis/api/v1/'"
   ]
  }
 ],
 "metadata": {
  "kernelspec": {
   "display_name": ".venv",
   "language": "python",
   "name": "python3"
  },
  "language_info": {
   "codemirror_mode": {
    "name": "ipython",
    "version": 3
   },
   "file_extension": ".py",
   "mimetype": "text/x-python",
   "name": "python",
   "nbconvert_exporter": "python",
   "pygments_lexer": "ipython3",
   "version": "3.10.12"
  }
 },
 "nbformat": 4,
 "nbformat_minor": 5
}
