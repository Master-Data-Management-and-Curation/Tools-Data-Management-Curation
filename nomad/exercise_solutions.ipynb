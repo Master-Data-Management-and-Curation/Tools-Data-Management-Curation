{
 "cells": [
  {
   "cell_type": "markdown",
   "id": "7120c76f",
   "metadata": {},
   "source": [
    "# Interacting with NOMAD Oasis via API\n",
    "\n",
    "### Exercises\n",
    "\n",
    "Learn to interact with NOMAD Oasis via API, using the Python `requests` library.\n",
    "\n",
    "\n",
    "You can practice using NOMAD with the example NOMAD Oasis provided by FAIRMat: https://nomad-lab.eu/prod/v1/oasis/gui/search/entries\n",
    "\n",
    "Perform the following actions:\n",
    "- Get an access token\n",
    "- Create a dataset for grouping uploads\n",
    "- (Optional) Get a list of all the datasets\n",
    "- Upload some test data to NOMAD\n",
    "- Check the Upload status\n",
    "- Show the metadata for your Upload\n",
    "- Update the metadata for your Upload: add coauthor(s), references, and other comments, as well as link to a dataset\n",
    "- Perform a search query (get help from the NOMAD Oasis GUI)\n",
    "- Download all the files for a given Upload_id\n",
    "- (Optional) Get your colleague's user information\n",
    "\n",
    "#### If you feel confident\n",
    "\n",
    "Go to Python `requests` library documentation (https://requests.readthedocs.io/en/latest/) to understand how to meke a GET and a POST request.\n",
    "\n",
    "Get an overview of all NOMAD APIs on the API page: https://nomad-lab.eu/prod/v1/api/v1/extensions/docs#/\n",
    "\n",
    "Ask questions if you have any doubts!\n",
    "\n",
    "\n",
    "#### If you'd like extra guidance\n",
    "\n",
    "We have prepared some simple python functions to facilitate use of this API, you can find them in the `NOMAD_APY.py` script.\n",
    "\n",
    "Carefully read through and understand what each function does.\n",
    "\n",
    "Once you’ve familiarized yourself with the functions, import the script and use them in your code to complete the exercises.\n",
    "\n",
    "Ask questions if you have any doubts!"
   ]
  },
  {
   "cell_type": "code",
   "execution_count": 26,
   "id": "2f3683a8-abce-45a9-9628-cef6ed1f37ee",
   "metadata": {},
   "outputs": [],
   "source": [
    "from NOMAD_API import *\n",
    "import json"
   ]
  },
  {
   "cell_type": "code",
   "execution_count": 27,
   "id": "33994609-60f0-4816-bf41-cdf8684b8e6f",
   "metadata": {},
   "outputs": [],
   "source": [
    "# define access credentials\n",
    "myusername = 'ceciliazagni'\n",
    "mypassword = 'cecilia.'"
   ]
  },
  {
   "cell_type": "code",
   "execution_count": 31,
   "id": "ed26b802-a4ac-4c07-9394-74ff44304973",
   "metadata": {},
   "outputs": [],
   "source": [
    "# define base url\n",
    "#nomad_url = 'http://nomad-test-ceciza.rd.areasciencepark.it/nomad-oasis/api/v1/'\n",
    "nomad_url = 'http://nomad-lab.eu/prod/v1/oasis/api/v1/'"
   ]
  },
  {
   "cell_type": "code",
   "execution_count": 32,
   "id": "2685afbb-7602-4f15-a83b-87197001c703",
   "metadata": {},
   "outputs": [],
   "source": [
    "# get access token\n",
    "token = get_authentication_token(nomad_url, myusername, mypassword)"
   ]
  },
  {
   "cell_type": "markdown",
   "id": "2897c3f3",
   "metadata": {},
   "source": [
    "## Datasets"
   ]
  },
  {
   "cell_type": "code",
   "execution_count": 6,
   "id": "3fb1fab5-143f-42f0-9196-857f41ca776b",
   "metadata": {},
   "outputs": [
    {
     "name": "stdout",
     "output_type": "stream",
     "text": [
      "response is missing dataset_id: \n",
      "{'detail': 'The chosen dataset name is already taken. Datesets of the same user must have a\\nunique name.'}\n"
     ]
    }
   ],
   "source": [
    "# Create a dataset for grouping uploads\n",
    "dataset_id = create_dataset(nomad_url, token, 'Test_Dataset_madama_2')\n",
    "dataset_id"
   ]
  },
  {
   "cell_type": "code",
   "execution_count": 7,
   "id": "6ea04909",
   "metadata": {},
   "outputs": [
    {
     "data": {
      "text/plain": [
       "[{'dataset_id': 'kn1z9_u1SZS6kInmgQu_AQ',\n",
       "  'dataset_name': 'Test_Dataset_madama',\n",
       "  'user_id': '66bdd4a3-3fe1-44d5-8315-65b6a367e089',\n",
       "  'dataset_create_time': '2024-10-14T13:23:29.338000',\n",
       "  'dataset_modified_time': '2024-10-14T13:23:29.338000',\n",
       "  'dataset_type': 'DatasetType.owned'},\n",
       " {'dataset_id': '6m8Zo6u6QuCv0L2v6Yg5kw',\n",
       "  'dataset_name': 'Test_Dataset_madama_2',\n",
       "  'user_id': '66bdd4a3-3fe1-44d5-8315-65b6a367e089',\n",
       "  'dataset_create_time': '2024-10-14T14:07:59.074000',\n",
       "  'dataset_modified_time': '2024-10-14T14:07:59.074000',\n",
       "  'dataset_type': 'DatasetType.owned'}]"
      ]
     },
     "execution_count": 7,
     "metadata": {},
     "output_type": "execute_result"
    }
   ],
   "source": [
    "lista = get_datasets_list(nomad_url, page_size=10, offset=0)\n",
    "lista"
   ]
  },
  {
   "cell_type": "markdown",
   "id": "a7d173b1",
   "metadata": {},
   "source": [
    "## Uploads"
   ]
  },
  {
   "cell_type": "code",
   "execution_count": 8,
   "id": "704ee851-ac55-42b1-82d6-cb14821a5a29",
   "metadata": {},
   "outputs": [],
   "source": [
    "# Upload some test data to NOMAD\n",
    "upload_id = upload_to_NOMAD(nomad_url, token, 'test_data.zip', 'mdmc_first_upload')"
   ]
  },
  {
   "cell_type": "code",
   "execution_count": 9,
   "id": "ff619028-ab36-4340-aa6c-44eed77e0a73",
   "metadata": {},
   "outputs": [
    {
     "name": "stdout",
     "output_type": "stream",
     "text": [
      "Matching\n"
     ]
    }
   ],
   "source": [
    "# Check the status to make sure the upload was processed correctly\n",
    "last_status_message = check_upload_status(nomad_url, token, upload_id)\n",
    "print(last_status_message)"
   ]
  },
  {
   "cell_type": "code",
   "execution_count": 10,
   "id": "79ca88bb-7d73-47e9-8af4-523a5a505884",
   "metadata": {},
   "outputs": [
    {
     "data": {
      "text/plain": [
       "{'upload_id': 'uimTeT3sTtK_FeUdH--2GA',\n",
       " 'data': {'process_running': True,\n",
       "  'current_process': 'process_upload',\n",
       "  'process_status': 'WAITING_FOR_RESULT',\n",
       "  'last_status_message': 'Waiting for results (level 0)',\n",
       "  'errors': [],\n",
       "  'warnings': [],\n",
       "  'upload_id': 'uimTeT3sTtK_FeUdH--2GA',\n",
       "  'upload_name': 'mdmc_first_upload',\n",
       "  'upload_create_time': '2024-10-14T15:12:12.913000',\n",
       "  'main_author': '66bdd4a3-3fe1-44d5-8315-65b6a367e089',\n",
       "  'coauthors': [],\n",
       "  'coauthor_groups': [],\n",
       "  'reviewers': [],\n",
       "  'reviewer_groups': [],\n",
       "  'writers': ['66bdd4a3-3fe1-44d5-8315-65b6a367e089'],\n",
       "  'writer_groups': [],\n",
       "  'viewers': ['66bdd4a3-3fe1-44d5-8315-65b6a367e089'],\n",
       "  'viewer_groups': [],\n",
       "  'published': False,\n",
       "  'published_to': [],\n",
       "  'with_embargo': False,\n",
       "  'embargo_length': 0,\n",
       "  'license': 'CC BY 4.0',\n",
       "  'entries': 1,\n",
       "  'upload_files_server_path': '/root/nomad-oasis/.volumes/fs/staging/ui/uimTeT3sTtK_FeUdH--2GA'}}"
      ]
     },
     "execution_count": 10,
     "metadata": {},
     "output_type": "execute_result"
    }
   ],
   "source": [
    "# show upload metadata\n",
    "response = show_upload_metadata(nomad_url,token,upload_id)\n",
    "response"
   ]
  },
  {
   "cell_type": "code",
   "execution_count": 11,
   "id": "a332c53d-6ca0-4db1-a8c8-bc51723629ce",
   "metadata": {},
   "outputs": [
    {
     "data": {
      "text/plain": [
       "{'upload_id': 'uimTeT3sTtK_FeUdH--2GA',\n",
       " 'data': {'process_running': True,\n",
       "  'current_process': 'process_upload',\n",
       "  'process_status': 'WAITING_FOR_RESULT',\n",
       "  'last_status_message': 'Waiting for results (level 0)',\n",
       "  'errors': [],\n",
       "  'warnings': [],\n",
       "  'upload_id': 'uimTeT3sTtK_FeUdH--2GA',\n",
       "  'upload_name': 'mdmc_first_upload',\n",
       "  'upload_create_time': '2024-10-14T15:12:12.913000',\n",
       "  'main_author': '66bdd4a3-3fe1-44d5-8315-65b6a367e089',\n",
       "  'coauthors': [],\n",
       "  'coauthor_groups': [],\n",
       "  'reviewers': [],\n",
       "  'reviewer_groups': [],\n",
       "  'writers': ['66bdd4a3-3fe1-44d5-8315-65b6a367e089'],\n",
       "  'writer_groups': [],\n",
       "  'viewers': ['66bdd4a3-3fe1-44d5-8315-65b6a367e089'],\n",
       "  'viewer_groups': [],\n",
       "  'published': False,\n",
       "  'published_to': [],\n",
       "  'with_embargo': False,\n",
       "  'embargo_length': 0,\n",
       "  'license': 'CC BY 4.0',\n",
       "  'entries': 1,\n",
       "  'upload_files_server_path': '/root/nomad-oasis/.volumes/fs/staging/ui/uimTeT3sTtK_FeUdH--2GA'}}"
      ]
     },
     "execution_count": 11,
     "metadata": {},
     "output_type": "execute_result"
    }
   ],
   "source": [
    "# Now that the upload processing is complete, we can add coauthors, references, and other comments, as well as link to a dataset and provide a proper name for the upload\n",
    "metadata = { \n",
    "  \"metadata\": {\n",
    "    \"upload_name\": \"Test_Upload2\",\n",
    "    \"references\": [\"https://areasciencepark.sharepoint.com/\"],\n",
    "    \"coauthors\": [\"federica.bazzocchi@areasciencepark.it\"],\n",
    "    \"embargo_length\": 0,\n",
    "    \"comment\": \"This is a test upload...\",\n",
    "    \"datasets\": 'Test_Dataset_madama'\n",
    "}\n",
    "}\n",
    "response = edit_upload_metadata(nomad_url, token, upload_id, metadata)\n",
    "response.json()\n"
   ]
  },
  {
   "cell_type": "code",
   "execution_count": 12,
   "id": "6257bcd3",
   "metadata": {},
   "outputs": [
    {
     "data": {
      "text/plain": [
       "{'upload_id': 'uimTeT3sTtK_FeUdH--2GA',\n",
       " 'data': {'process_running': True,\n",
       "  'current_process': 'process_upload',\n",
       "  'process_status': 'WAITING_FOR_RESULT',\n",
       "  'last_status_message': 'Waiting for results (level 0)',\n",
       "  'errors': [],\n",
       "  'warnings': [],\n",
       "  'upload_id': 'uimTeT3sTtK_FeUdH--2GA',\n",
       "  'upload_name': 'mdmc_first_upload',\n",
       "  'upload_create_time': '2024-10-14T15:12:12.913000',\n",
       "  'main_author': '66bdd4a3-3fe1-44d5-8315-65b6a367e089',\n",
       "  'coauthors': [],\n",
       "  'coauthor_groups': [],\n",
       "  'reviewers': [],\n",
       "  'reviewer_groups': [],\n",
       "  'writers': ['66bdd4a3-3fe1-44d5-8315-65b6a367e089'],\n",
       "  'writer_groups': [],\n",
       "  'viewers': ['66bdd4a3-3fe1-44d5-8315-65b6a367e089'],\n",
       "  'viewer_groups': [],\n",
       "  'published': False,\n",
       "  'published_to': [],\n",
       "  'with_embargo': False,\n",
       "  'embargo_length': 0,\n",
       "  'license': 'CC BY 4.0',\n",
       "  'entries': 1,\n",
       "  'upload_files_server_path': '/root/nomad-oasis/.volumes/fs/staging/ui/uimTeT3sTtK_FeUdH--2GA'}}"
      ]
     },
     "execution_count": 12,
     "metadata": {},
     "output_type": "execute_result"
    }
   ],
   "source": [
    "# show upload metadata\n",
    "response = show_upload_metadata(nomad_url,token,upload_id)\n",
    "response"
   ]
  },
  {
   "cell_type": "code",
   "execution_count": 13,
   "id": "39920659-aff2-4fc8-a1ba-49257c6a3bbe",
   "metadata": {},
   "outputs": [
    {
     "name": "stdout",
     "output_type": "stream",
     "text": [
      "Waiting for results (level 0)\n"
     ]
    }
   ],
   "source": [
    "# Check the upload again to make sure that the metadata was changed\n",
    "last_status_message = check_upload_status(nomad_url, token, upload_id)\n",
    "print(last_status_message)"
   ]
  },
  {
   "cell_type": "markdown",
   "id": "bcd78ac1",
   "metadata": {},
   "source": [
    "## Users"
   ]
  },
  {
   "cell_type": "code",
   "execution_count": 14,
   "id": "64ee3f7f",
   "metadata": {},
   "outputs": [
    {
     "data": {
      "text/plain": [
       "{'data': [{'name': 'Cecilia Zagni',\n",
       "   'first_name': 'Cecilia',\n",
       "   'last_name': 'Zagni',\n",
       "   'affiliation': 'Area Science Park',\n",
       "   'affiliation_address': 'Località Padriciano, 99, 34149 Trieste',\n",
       "   'user_id': '66bdd4a3-3fe1-44d5-8315-65b6a367e089',\n",
       "   'username': 'ceciliazagni',\n",
       "   'created': '2023-11-20T08:23:41.547000+00:00',\n",
       "   'is_admin': False,\n",
       "   'is_oasis_admin': False}]}"
      ]
     },
     "execution_count": 14,
     "metadata": {},
     "output_type": "execute_result"
    }
   ],
   "source": [
    "# get user information with username\n",
    "response = requests.get('https://nomad-lab.eu/prod/v1/api/v1/users?username=ceciliazagni', headers={'Authorization': f'Bearer {token}'})\n",
    "response.json()\n"
   ]
  },
  {
   "cell_type": "code",
   "execution_count": 15,
   "id": "5d7b2f1b",
   "metadata": {},
   "outputs": [
    {
     "data": {
      "text/plain": [
       "{'data': [{'name': 'Federica Bazzocchi',\n",
       "   'first_name': 'Federica',\n",
       "   'last_name': 'Bazzocchi',\n",
       "   'affiliation': 'AREA SCIENCE PARK',\n",
       "   'affiliation_address': 'Padriciano',\n",
       "   'user_id': '39c30f39-21b4-4858-a1bb-cbd030b54cab',\n",
       "   'username': 'fbazzo',\n",
       "   'created': '2023-10-09T12:03:45.226000+00:00',\n",
       "   'is_admin': False}]}"
      ]
     },
     "execution_count": 15,
     "metadata": {},
     "output_type": "execute_result"
    }
   ],
   "source": [
    "# get user information with first_name, last_name, or username of the user\n",
    "prefix= 'federica.bazzocchi@areasciencepark.it'\n",
    "response = requests.get(nomad_url+'users?prefix='+ prefix, headers={'Authorization': f'Bearer {token}'})\n",
    "response.json()"
   ]
  },
  {
   "cell_type": "code",
   "execution_count": 16,
   "id": "78de8291",
   "metadata": {},
   "outputs": [
    {
     "data": {
      "text/plain": [
       "'39c30f39-21b4-4858-a1bb-cbd030b54cab'"
      ]
     },
     "execution_count": 16,
     "metadata": {},
     "output_type": "execute_result"
    }
   ],
   "source": [
    "response.json()['data'][0]['user_id']"
   ]
  },
  {
   "cell_type": "code",
   "execution_count": 17,
   "id": "44374b64",
   "metadata": {},
   "outputs": [],
   "source": [
    "# get list of all users\n",
    "tutti1 = requests.get(nomad_url+'users?prefix=*&page=1&size=1000', headers={'Authorization': f'Bearer {token}'})\n",
    "#tutti.json()"
   ]
  },
  {
   "cell_type": "code",
   "execution_count": 18,
   "id": "4ae0421a",
   "metadata": {},
   "outputs": [
    {
     "data": {
      "text/plain": [
       "1000"
      ]
     },
     "execution_count": 18,
     "metadata": {},
     "output_type": "execute_result"
    }
   ],
   "source": [
    "len(tutti1.json()['data'])"
   ]
  },
  {
   "cell_type": "code",
   "execution_count": 19,
   "id": "9257b0eb",
   "metadata": {},
   "outputs": [
    {
     "name": "stdout",
     "output_type": "stream",
     "text": [
      "Federico Bonaldo\n",
      "Cecilia Zagni\n"
     ]
    }
   ],
   "source": [
    "for user in tutti1.json()['data']:\n",
    "    if 'affiliation' in user.keys() and user['affiliation'] == 'Area Science Park':\n",
    "        print(user['name'])\n",
    "    if 'first_name' in user.keys() and user['first_name'] == 'Federica':\n",
    "        print(user['name'])\n"
   ]
  },
  {
   "cell_type": "code",
   "execution_count": 20,
   "id": "2c88409c",
   "metadata": {},
   "outputs": [
    {
     "data": {
      "text/plain": [
       "dict"
      ]
     },
     "execution_count": 20,
     "metadata": {},
     "output_type": "execute_result"
    }
   ],
   "source": [
    "type(response.json())"
   ]
  },
  {
   "cell_type": "markdown",
   "id": "b40302ba",
   "metadata": {},
   "source": [
    "## Query"
   ]
  },
  {
   "cell_type": "code",
   "execution_count": 33,
   "id": "8d71e2b3",
   "metadata": {},
   "outputs": [],
   "source": [
    "query = {\n",
    "  \"owner\": \"visible\",\n",
    "  \"query\": {\n",
    "    \"results.material.elements:all\": [\n",
    "      \"Si\"\n",
    "    ]\n",
    "  }\n",
    "}"
   ]
  },
  {
   "cell_type": "code",
   "execution_count": 34,
   "id": "9cda87c8",
   "metadata": {},
   "outputs": [],
   "source": [
    "#http://nomad-test-ceciza.rd.areasciencepark.it/nomad-oasis/api/v1/entries/query\n",
    "ris = perform_query(nomad_url, query)"
   ]
  },
  {
   "cell_type": "code",
   "execution_count": 35,
   "id": "17a6fd82",
   "metadata": {},
   "outputs": [
    {
     "data": {
      "text/plain": [
       "dict_keys(['owner', 'query', 'pagination', 'data'])"
      ]
     },
     "execution_count": 35,
     "metadata": {},
     "output_type": "execute_result"
    }
   ],
   "source": [
    "ris.keys()"
   ]
  },
  {
   "cell_type": "code",
   "execution_count": 36,
   "id": "26885cc9",
   "metadata": {},
   "outputs": [
    {
     "data": {
      "text/plain": [
       "'BM0Ofxz9TZKCRxLDDafWDA'"
      ]
     },
     "execution_count": 36,
     "metadata": {},
     "output_type": "execute_result"
    }
   ],
   "source": [
    "ris['data'][0]['upload_id']"
   ]
  },
  {
   "cell_type": "code",
   "execution_count": 37,
   "id": "ecb61853",
   "metadata": {},
   "outputs": [
    {
     "name": "stdout",
     "output_type": "stream",
     "text": [
      "Failed to download file. Status code: 400\n",
      "{\"detail\":\"Cannot download raw files .zip from non published uploads. Use '/{upload_id}/raw/' instead\\nto recursively create and download a .zip file with all files.\"}\n"
     ]
    },
    {
     "data": {
      "text/plain": [
       "{'detail': \"Cannot download raw files .zip from non published uploads. Use '/{upload_id}/raw/' instead\\nto recursively create and download a .zip file with all files.\"}"
      ]
     },
     "execution_count": 37,
     "metadata": {},
     "output_type": "execute_result"
    }
   ],
   "source": [
    "download_from_upload_id(nomad_url,ris['data'][0]['upload_id'],'test_download.zip')"
   ]
  },
  {
   "cell_type": "code",
   "execution_count": null,
   "id": "e2967fd4",
   "metadata": {},
   "outputs": [],
   "source": []
  }
 ],
 "metadata": {
  "kernelspec": {
   "display_name": ".venv",
   "language": "python",
   "name": "python3"
  },
  "language_info": {
   "codemirror_mode": {
    "name": "ipython",
    "version": 3
   },
   "file_extension": ".py",
   "mimetype": "text/x-python",
   "name": "python",
   "nbconvert_exporter": "python",
   "pygments_lexer": "ipython3",
   "version": "3.10.12"
  }
 },
 "nbformat": 4,
 "nbformat_minor": 5
}
