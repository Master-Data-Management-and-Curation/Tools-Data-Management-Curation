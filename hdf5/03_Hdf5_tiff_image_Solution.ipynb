{
 "cells": [
  {
   "cell_type": "markdown",
   "id": "95edc9fe-cf1e-421b-9c4e-4c0b9c8906e8",
   "metadata": {},
   "source": [
    "# Reading SEM images in tiff format and create an HDF5 file\n",
    "\n",
    "In this notebook we define standard function to read tiff images and we try to build a suitable hdf5 file."
   ]
  },
  {
   "cell_type": "code",
   "execution_count": 1,
   "id": "83a64c76-d816-4503-8c75-46d2c5192964",
   "metadata": {},
   "outputs": [
    {
     "name": "stdout",
     "output_type": "stream",
     "text": [
      "Requirement already satisfied: tifffile in /Library/Frameworks/Python.framework/Versions/3.12/lib/python3.12/site-packages (2024.9.20)\n",
      "Requirement already satisfied: numpy in /Library/Frameworks/Python.framework/Versions/3.12/lib/python3.12/site-packages (from tifffile) (1.26.4)\n",
      "\n",
      "\u001b[1m[\u001b[0m\u001b[34;49mnotice\u001b[0m\u001b[1;39;49m]\u001b[0m\u001b[39;49m A new release of pip is available: \u001b[0m\u001b[31;49m24.1.2\u001b[0m\u001b[39;49m -> \u001b[0m\u001b[32;49m24.2\u001b[0m\n",
      "\u001b[1m[\u001b[0m\u001b[34;49mnotice\u001b[0m\u001b[1;39;49m]\u001b[0m\u001b[39;49m To update, run: \u001b[0m\u001b[32;49mpip install --upgrade pip\u001b[0m\n",
      "Note: you may need to restart the kernel to use updated packages.\n"
     ]
    }
   ],
   "source": [
    "pip install tifffile"
   ]
  },
  {
   "cell_type": "code",
   "execution_count": 97,
   "id": "f7ddbd5e-604d-4f9d-b7d6-f22d7cdc096f",
   "metadata": {},
   "outputs": [],
   "source": [
    "import numpy as np\n",
    "import h5py\n",
    "import tifffile\n",
    "import os\n",
    "path_file='' # insert the path of this notebook\n",
    "path_tiff=path_file+'img_sem/'\n",
    "name_img='8_00.tif'"
   ]
  },
  {
   "cell_type": "markdown",
   "id": "fe467537-73e3-494f-ad4c-5e2877d28919",
   "metadata": {},
   "source": [
    "We define a function to read the metadata of a SEM image in tiff format"
   ]
  },
  {
   "cell_type": "code",
   "execution_count": 78,
   "id": "1ff1c800-98a9-4633-b51b-a56979647726",
   "metadata": {},
   "outputs": [],
   "source": [
    "def extract_tiff_metadata(file_path):\n",
    "   metadata = {}\n",
    "  # Open the TIFF file\n",
    "   with tifffile.TiffFile(file_path) as tif:\n",
    "    # Print general metadata\n",
    "      #print(f\"File: {file_path}\")\n",
    "      #print(f\"Number of pages: {len(tif.pages)}\")\n",
    "  # Iterate over pages and print page-specific metadata\n",
    "\n",
    "      for i, page in enumerate(tif.pages):\n",
    "             #print(f\"\\nMetadata for page {i + 1}:\")\n",
    "             tags = page.tags\n",
    "             for tag in tags.values():\n",
    "                 name, value = tag.name, tag.value\n",
    "                 metadata[name] = value\n",
    "\n",
    "   return metadata\n",
    "\n",
    " \n",
    "\n"
   ]
  },
  {
   "cell_type": "markdown",
   "id": "e803c615-2e06-4671-b3af-0a9911b402d1",
   "metadata": {},
   "source": [
    "Let's give a look at the first keys and at those contained in the value of the key 'CZ_SEM'"
   ]
  },
  {
   "cell_type": "code",
   "execution_count": 79,
   "id": "b21c67b1-1fbb-43a3-aa69-49687b6d5b14",
   "metadata": {},
   "outputs": [
    {
     "name": "stdout",
     "output_type": "stream",
     "text": [
      "dict_keys(['NewSubfileType', 'ImageWidth', 'ImageLength', 'BitsPerSample', 'Compression', 'PhotometricInterpretation', 'StripOffsets', 'SamplesPerPixel', 'RowsPerStrip', 'StripByteCounts', 'XResolution', 'YResolution', 'ResolutionUnit', 'ColorMap', 'CZ_SEM'])\n"
     ]
    }
   ],
   "source": [
    "metadata = extract_tiff_metadata(path_tiff+name_img)\n",
    "print(metadata.keys())\n",
    "#print('CZ_SEM')\n",
    "#print(metadata['CZ_SEM'].keys())"
   ]
  },
  {
   "cell_type": "markdown",
   "id": "7ba12cb2-3fb4-400f-b653-94cc84c8358a",
   "metadata": {},
   "source": [
    "You may extract the data as an array with"
   ]
  },
  {
   "cell_type": "code",
   "execution_count": 5,
   "id": "bc05c007-e13e-4dd8-bed3-3076f7dd30c0",
   "metadata": {},
   "outputs": [],
   "source": [
    "image_array = tifffile.imread(path_tiff+name_img)\n"
   ]
  },
  {
   "cell_type": "markdown",
   "id": "29c32149-e2a2-4b40-b197-fecd7d9dcf61",
   "metadata": {},
   "source": [
    "### Exercise \n",
    "\n",
    "Create an hdf5 file that contains all the images in the folder /img_sem, arrange data and metadata in the most suitable way according to your opinion. \n",
    "\n",
    "*Suggestion : you could check if there are some metadata in common among all the images. Think how you would describe a SEM measurement. If you are not a SEM expert focus on images metadata such as pixel, dimensions etc, or general information such as username, etc.* "
   ]
  },
  {
   "cell_type": "markdown",
   "id": "63c09d17-74af-4c0a-8c9a-1ce4c61b7b3b",
   "metadata": {},
   "source": [
    "### Solution\n",
    "\n"
   ]
  },
  {
   "cell_type": "raw",
   "id": "c40d1adc-c2ed-459a-801a-6feef398ac26",
   "metadata": {},
   "source": [
    "The structure we want to give is the following:\n",
    "for each image\n",
    "--group image\n",
    "             |_ dataset data with the data\n",
    "             for each page\n",
    "             |_ group page\n",
    "                          |_ a selection of the metadata as datasets"
   ]
  },
  {
   "cell_type": "raw",
   "id": "8a53391f-40b2-408c-931c-9c6e280bf91e",
   "metadata": {},
   "source": [
    "We redefine the function to extract metadata in such a way that the first key is the page number and  its value contains the dictionary that was the result of the previous function."
   ]
  },
  {
   "cell_type": "code",
   "execution_count": 101,
   "id": "26903f19-38bf-4f62-9215-d88bddfe7e80",
   "metadata": {},
   "outputs": [],
   "source": [
    "def extract_tiff_metadata_new(file_path):\n",
    "   metadata = {}\n",
    "  # Open the TIFF file\n",
    "   with tifffile.TiffFile(file_path) as tif:\n",
    "    # Print general metadata\n",
    "      #print(f\"File: {file_path}\")\n",
    "      #print(f\"Number of pages: {len(tif.pages)}\")\n",
    "  # Iterate over pages and print page-specific metadata\n",
    "\n",
    "      for i, page in enumerate(tif.pages):\n",
    "             metadata_page = {}\n",
    "             metadata['page'+str(i+1)]=metadata_page\n",
    "             #print(f\"\\nMetadata for page {i + 1}:\")\n",
    "             tags = page.tags\n",
    "             for tag in tags.values():\n",
    "                 name, value = tag.name, tag.value\n",
    "                 metadata_page[name] = value\n",
    "\n",
    "   return metadata"
   ]
  },
  {
   "cell_type": "code",
   "execution_count": 109,
   "id": "48731dcc-f959-4a4f-871c-10c6d6f43659",
   "metadata": {},
   "outputs": [],
   "source": [
    "key_selected=['ImageWidth', 'ImageLength', 'BitsPerSample', 'Compression',  'XResolution', 'YResolution']\n"
   ]
  },
  {
   "cell_type": "code",
   "execution_count": 94,
   "id": "2859da6b-84ab-4b76-99b9-4875ed5e3828",
   "metadata": {},
   "outputs": [
    {
     "name": "stdout",
     "output_type": "stream",
     "text": [
      "dict_keys(['NewSubfileType', 'ImageWidth', 'ImageLength', 'BitsPerSample', 'Compression', 'PhotometricInterpretation', 'StripOffsets', 'SamplesPerPixel', 'RowsPerStrip', 'StripByteCounts', 'XResolution', 'YResolution', 'ResolutionUnit', 'ColorMap', 'CZ_SEM'])\n",
      "dict_keys(['NewSubfileType', 'ImageWidth', 'ImageLength', 'BitsPerSample', 'Compression', 'PhotometricInterpretation', 'StripOffsets', 'SamplesPerPixel', 'RowsPerStrip', 'StripByteCounts', 'XResolution', 'YResolution', 'ResolutionUnit', 'ColorMap', 'CZ_SEM'])\n",
      "dict_keys(['NewSubfileType', 'ImageWidth', 'ImageLength', 'BitsPerSample', 'Compression', 'PhotometricInterpretation', 'StripOffsets', 'SamplesPerPixel', 'RowsPerStrip', 'StripByteCounts', 'XResolution', 'YResolution', 'ResolutionUnit', 'ColorMap', 'CZ_SEM'])\n"
     ]
    }
   ],
   "source": [
    "#check if the function works\n",
    "for img in list_f:\n",
    "    if img.split('.')[1]=='tif':\n",
    "        \n",
    "        metadata = extract_tiff_metadata_new(path_tiff+img)\n",
    "        print(metadata['page1'].keys())"
   ]
  },
  {
   "cell_type": "code",
   "execution_count": 110,
   "id": "9fc725ff-4361-44ea-a6e3-be286cdc1c79",
   "metadata": {},
   "outputs": [],
   "source": [
    "f = h5py.File('img_sem_sol1.hdf5', \"w\")"
   ]
  },
  {
   "cell_type": "code",
   "execution_count": 111,
   "id": "845c8aaf-0320-4305-b9ed-680f6583a089",
   "metadata": {},
   "outputs": [],
   "source": [
    "#initialize a counter\n",
    "i=0\n",
    "#run among the fiels and  for each one check if it is a tif\n",
    "for img in list_f:\n",
    "    if img.split('.')[1]=='tif':\n",
    "        #extract metadata and data\n",
    "        metadata = extract_tiff_metadata_new(path_tiff+img)\n",
    "        image_array = tifffile.imread(path_tiff+img)\n",
    "        #create a group image_i and put the data in a dataset named data\n",
    "        f['/image'+str(i+1)+'/data']=image_array\n",
    "        \n",
    "        for k_p in metadata.keys():\n",
    "            f['/image'+str(i+1)].create_group(k_p)\n",
    "        \n",
    "            for k in key_selected:   \n",
    "                     f['/image'+str(i+1)+'/'+k_p+'/'+k]=metadata[k_p][k]\n",
    "        i=i+1          \n",
    "f.close()                \n",
    "    "
   ]
  },
  {
   "cell_type": "code",
   "execution_count": 65,
   "id": "91fc348f-f8be-4b17-9b7a-1c446a66fb0b",
   "metadata": {},
   "outputs": [
    {
     "name": "stdout",
     "output_type": "stream",
     "text": [
      "Requirement already satisfied: nexusformat in /Library/Frameworks/Python.framework/Versions/3.12/lib/python3.12/site-packages (1.0.6)\n",
      "Requirement already satisfied: numpy in /Library/Frameworks/Python.framework/Versions/3.12/lib/python3.12/site-packages (from nexusformat) (1.26.4)\n",
      "Requirement already satisfied: scipy in /Library/Frameworks/Python.framework/Versions/3.12/lib/python3.12/site-packages (from nexusformat) (1.14.1)\n",
      "Requirement already satisfied: h5py>=2.9 in /Library/Frameworks/Python.framework/Versions/3.12/lib/python3.12/site-packages (from nexusformat) (3.12.1)\n",
      "Requirement already satisfied: hdf5plugin in /Library/Frameworks/Python.framework/Versions/3.12/lib/python3.12/site-packages (from nexusformat) (5.0.0)\n",
      "\n",
      "\u001b[1m[\u001b[0m\u001b[34;49mnotice\u001b[0m\u001b[1;39;49m]\u001b[0m\u001b[39;49m A new release of pip is available: \u001b[0m\u001b[31;49m24.1.2\u001b[0m\u001b[39;49m -> \u001b[0m\u001b[32;49m24.2\u001b[0m\n",
      "\u001b[1m[\u001b[0m\u001b[34;49mnotice\u001b[0m\u001b[1;39;49m]\u001b[0m\u001b[39;49m To update, run: \u001b[0m\u001b[32;49mpip install --upgrade pip\u001b[0m\n",
      "Note: you may need to restart the kernel to use updated packages.\n"
     ]
    }
   ],
   "source": [
    "pip install nexusformat"
   ]
  },
  {
   "cell_type": "code",
   "execution_count": 112,
   "id": "c008035b-23e1-4208-9c3d-00265b5c307d",
   "metadata": {},
   "outputs": [],
   "source": [
    "from nexusformat.nexus import *"
   ]
  },
  {
   "cell_type": "code",
   "execution_count": 114,
   "id": "3d7c67d9-1842-4972-904f-af1bf2b62f58",
   "metadata": {},
   "outputs": [
    {
     "name": "stdout",
     "output_type": "stream",
     "text": [
      "root:NXroot\n",
      "  image1:NXgroup\n",
      "    data = uint8(768x1024)\n",
      "    page1:NXgroup\n",
      "      BitsPerSample = 8\n",
      "      Compression = 1\n",
      "      ImageLength = 768\n",
      "      ImageWidth = 1024\n",
      "      XResolution = [1 1]\n",
      "      YResolution = [1 1]\n",
      "  image2:NXgroup\n",
      "    data = uint8(768x1024)\n",
      "    page1:NXgroup\n",
      "      BitsPerSample = 8\n",
      "      Compression = 1\n",
      "      ImageLength = 768\n",
      "      ImageWidth = 1024\n",
      "      XResolution = [1 1]\n",
      "      YResolution = [1 1]\n",
      "  image3:NXgroup\n",
      "    data = uint8(768x1024)\n",
      "    page1:NXgroup\n",
      "      BitsPerSample = 8\n",
      "      Compression = 1\n",
      "      ImageLength = 768\n",
      "      ImageWidth = 1024\n",
      "      XResolution = [1 1]\n",
      "      YResolution = [1 1]\n"
     ]
    }
   ],
   "source": [
    "test=nxload(path_file+'img_sem_sol1.hdf5')\n",
    "print(test.tree)"
   ]
  },
  {
   "cell_type": "code",
   "execution_count": null,
   "id": "89e7b738-47a1-4c47-afe4-3c3c1a5d7b1f",
   "metadata": {},
   "outputs": [],
   "source": []
  }
 ],
 "metadata": {
  "kernelspec": {
   "display_name": "Python 3 (ipykernel)",
   "language": "python",
   "name": "python3"
  },
  "language_info": {
   "codemirror_mode": {
    "name": "ipython",
    "version": 3
   },
   "file_extension": ".py",
   "mimetype": "text/x-python",
   "name": "python",
   "nbconvert_exporter": "python",
   "pygments_lexer": "ipython3",
   "version": "3.12.3"
  }
 },
 "nbformat": 4,
 "nbformat_minor": 5
}
